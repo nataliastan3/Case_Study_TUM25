{
 "cells": [
  {
   "cell_type": "code",
   "execution_count": 1,
   "id": "0cfe808e",
   "metadata": {},
   "outputs": [],
   "source": [
    "import os\n",
    "import pandas as pd\n",
    "import plotly.express as px\n",
    "import data_preprocessing.data_loading as dl"
   ]
  },
  {
   "cell_type": "code",
   "execution_count": 2,
   "id": "158308dd",
   "metadata": {},
   "outputs": [
    {
     "name": "stderr",
     "output_type": "stream",
     "text": [
      "c:\\Users\\denid\\Desktop\\Case_Study_TUM25\\data_preprocessing\\data_loading.py:27: DtypeWarning: Columns (10) have mixed types. Specify dtype option on import or set low_memory=False.\n",
      "  df = pd.read_csv(csv_path)\n"
     ]
    }
   ],
   "source": [
    "df = dl.get_party_positions_data(file_dir=\"data_folder\", file_name='party_dataset.csv', country='Germany')"
   ]
  },
  {
   "cell_type": "code",
   "execution_count": 3,
   "id": "f073c826",
   "metadata": {},
   "outputs": [
    {
     "data": {
      "text/html": [
       "<div>\n",
       "<style scoped>\n",
       "    .dataframe tbody tr th:only-of-type {\n",
       "        vertical-align: middle;\n",
       "    }\n",
       "\n",
       "    .dataframe tbody tr th {\n",
       "        vertical-align: top;\n",
       "    }\n",
       "\n",
       "    .dataframe thead th {\n",
       "        text-align: right;\n",
       "    }\n",
       "</style>\n",
       "<table border=\"1\" class=\"dataframe\">\n",
       "  <thead>\n",
       "    <tr style=\"text-align: right;\">\n",
       "      <th></th>\n",
       "      <th>Country</th>\n",
       "      <th>Date</th>\n",
       "      <th>Calendar_Week</th>\n",
       "      <th>Party_Name</th>\n",
       "      <th>Foreign Special Relationships: Positive</th>\n",
       "      <th>Foreign Special Relationships: Negative</th>\n",
       "      <th>Anti-Imperialism</th>\n",
       "      <th>Military: Positive</th>\n",
       "      <th>Military: Negative</th>\n",
       "      <th>Peace</th>\n",
       "      <th>...</th>\n",
       "      <th>Labour Groups: Positive</th>\n",
       "      <th>Labour Groups: Negative</th>\n",
       "      <th>Middle Class and Professional Groups</th>\n",
       "      <th>Underprivileged Minority Groups</th>\n",
       "      <th>Non-economic Demographic Groups</th>\n",
       "      <th>Right-left position</th>\n",
       "      <th>Planned Economy</th>\n",
       "      <th>Market Economy</th>\n",
       "      <th>Welfare State</th>\n",
       "      <th>International Peace</th>\n",
       "    </tr>\n",
       "  </thead>\n",
       "  <tbody>\n",
       "    <tr>\n",
       "      <th>89</th>\n",
       "      <td>Germany</td>\n",
       "      <td>26/09/2021</td>\n",
       "      <td>202109</td>\n",
       "      <td>90/Greens</td>\n",
       "      <td>0.101</td>\n",
       "      <td>0.0</td>\n",
       "      <td>0.278</td>\n",
       "      <td>0.633</td>\n",
       "      <td>0.734</td>\n",
       "      <td>0.785</td>\n",
       "      <td>...</td>\n",
       "      <td>3.747</td>\n",
       "      <td>0.000</td>\n",
       "      <td>0.025</td>\n",
       "      <td>0.177</td>\n",
       "      <td>0.152</td>\n",
       "      <td>-21.038</td>\n",
       "      <td>7.342</td>\n",
       "      <td>0.304</td>\n",
       "      <td>19.342</td>\n",
       "      <td>1.519</td>\n",
       "    </tr>\n",
       "    <tr>\n",
       "      <th>90</th>\n",
       "      <td>Germany</td>\n",
       "      <td>26/09/2021</td>\n",
       "      <td>202109</td>\n",
       "      <td>LINKE</td>\n",
       "      <td>0.021</td>\n",
       "      <td>0.0</td>\n",
       "      <td>0.412</td>\n",
       "      <td>0.021</td>\n",
       "      <td>3.376</td>\n",
       "      <td>1.091</td>\n",
       "      <td>...</td>\n",
       "      <td>8.481</td>\n",
       "      <td>0.000</td>\n",
       "      <td>0.000</td>\n",
       "      <td>0.000</td>\n",
       "      <td>0.103</td>\n",
       "      <td>-36.167</td>\n",
       "      <td>8.399</td>\n",
       "      <td>0.062</td>\n",
       "      <td>28.427</td>\n",
       "      <td>4.467</td>\n",
       "    </tr>\n",
       "    <tr>\n",
       "      <th>91</th>\n",
       "      <td>Germany</td>\n",
       "      <td>26/09/2021</td>\n",
       "      <td>202109</td>\n",
       "      <td>SPD</td>\n",
       "      <td>0.059</td>\n",
       "      <td>0.0</td>\n",
       "      <td>0.238</td>\n",
       "      <td>0.951</td>\n",
       "      <td>1.011</td>\n",
       "      <td>1.070</td>\n",
       "      <td>...</td>\n",
       "      <td>9.096</td>\n",
       "      <td>0.000</td>\n",
       "      <td>0.000</td>\n",
       "      <td>0.119</td>\n",
       "      <td>0.476</td>\n",
       "      <td>-24.673</td>\n",
       "      <td>5.351</td>\n",
       "      <td>0.119</td>\n",
       "      <td>22.414</td>\n",
       "      <td>2.081</td>\n",
       "    </tr>\n",
       "    <tr>\n",
       "      <th>92</th>\n",
       "      <td>Germany</td>\n",
       "      <td>26/09/2021</td>\n",
       "      <td>202109</td>\n",
       "      <td>FDP</td>\n",
       "      <td>0.222</td>\n",
       "      <td>0.0</td>\n",
       "      <td>0.310</td>\n",
       "      <td>1.329</td>\n",
       "      <td>0.443</td>\n",
       "      <td>0.576</td>\n",
       "      <td>...</td>\n",
       "      <td>3.057</td>\n",
       "      <td>0.266</td>\n",
       "      <td>0.842</td>\n",
       "      <td>0.000</td>\n",
       "      <td>0.133</td>\n",
       "      <td>0.266</td>\n",
       "      <td>3.057</td>\n",
       "      <td>6.424</td>\n",
       "      <td>14.222</td>\n",
       "      <td>1.019</td>\n",
       "    </tr>\n",
       "    <tr>\n",
       "      <th>93</th>\n",
       "      <td>Germany</td>\n",
       "      <td>26/09/2021</td>\n",
       "      <td>202109</td>\n",
       "      <td>CDU/CSU</td>\n",
       "      <td>0.252</td>\n",
       "      <td>0.0</td>\n",
       "      <td>0.000</td>\n",
       "      <td>3.279</td>\n",
       "      <td>0.180</td>\n",
       "      <td>0.288</td>\n",
       "      <td>...</td>\n",
       "      <td>3.495</td>\n",
       "      <td>0.072</td>\n",
       "      <td>0.108</td>\n",
       "      <td>0.180</td>\n",
       "      <td>0.252</td>\n",
       "      <td>3.495</td>\n",
       "      <td>5.081</td>\n",
       "      <td>3.063</td>\n",
       "      <td>10.703</td>\n",
       "      <td>0.468</td>\n",
       "    </tr>\n",
       "    <tr>\n",
       "      <th>94</th>\n",
       "      <td>Germany</td>\n",
       "      <td>26/09/2021</td>\n",
       "      <td>202109</td>\n",
       "      <td>SSW</td>\n",
       "      <td>0.000</td>\n",
       "      <td>0.0</td>\n",
       "      <td>0.293</td>\n",
       "      <td>0.220</td>\n",
       "      <td>0.147</td>\n",
       "      <td>0.514</td>\n",
       "      <td>...</td>\n",
       "      <td>6.676</td>\n",
       "      <td>0.000</td>\n",
       "      <td>0.147</td>\n",
       "      <td>3.155</td>\n",
       "      <td>0.073</td>\n",
       "      <td>-22.450</td>\n",
       "      <td>3.742</td>\n",
       "      <td>0.073</td>\n",
       "      <td>25.092</td>\n",
       "      <td>0.660</td>\n",
       "    </tr>\n",
       "    <tr>\n",
       "      <th>95</th>\n",
       "      <td>Germany</td>\n",
       "      <td>26/09/2021</td>\n",
       "      <td>202109</td>\n",
       "      <td>AfD</td>\n",
       "      <td>0.000</td>\n",
       "      <td>0.0</td>\n",
       "      <td>0.127</td>\n",
       "      <td>2.478</td>\n",
       "      <td>0.445</td>\n",
       "      <td>0.127</td>\n",
       "      <td>...</td>\n",
       "      <td>1.398</td>\n",
       "      <td>0.127</td>\n",
       "      <td>0.445</td>\n",
       "      <td>0.445</td>\n",
       "      <td>0.318</td>\n",
       "      <td>26.048</td>\n",
       "      <td>2.541</td>\n",
       "      <td>8.386</td>\n",
       "      <td>7.687</td>\n",
       "      <td>0.572</td>\n",
       "    </tr>\n",
       "  </tbody>\n",
       "</table>\n",
       "<p>7 rows × 58 columns</p>\n",
       "</div>"
      ],
      "text/plain": [
       "    Country        Date Calendar_Week Party_Name  \\\n",
       "89  Germany  26/09/2021        202109  90/Greens   \n",
       "90  Germany  26/09/2021        202109      LINKE   \n",
       "91  Germany  26/09/2021        202109        SPD   \n",
       "92  Germany  26/09/2021        202109        FDP   \n",
       "93  Germany  26/09/2021        202109    CDU/CSU   \n",
       "94  Germany  26/09/2021        202109        SSW   \n",
       "95  Germany  26/09/2021        202109        AfD   \n",
       "\n",
       "    Foreign Special Relationships: Positive  \\\n",
       "89                                    0.101   \n",
       "90                                    0.021   \n",
       "91                                    0.059   \n",
       "92                                    0.222   \n",
       "93                                    0.252   \n",
       "94                                    0.000   \n",
       "95                                    0.000   \n",
       "\n",
       "    Foreign Special Relationships: Negative  Anti-Imperialism  \\\n",
       "89                                      0.0             0.278   \n",
       "90                                      0.0             0.412   \n",
       "91                                      0.0             0.238   \n",
       "92                                      0.0             0.310   \n",
       "93                                      0.0             0.000   \n",
       "94                                      0.0             0.293   \n",
       "95                                      0.0             0.127   \n",
       "\n",
       "    Military: Positive  Military: Negative  Peace  ...  \\\n",
       "89               0.633               0.734  0.785  ...   \n",
       "90               0.021               3.376  1.091  ...   \n",
       "91               0.951               1.011  1.070  ...   \n",
       "92               1.329               0.443  0.576  ...   \n",
       "93               3.279               0.180  0.288  ...   \n",
       "94               0.220               0.147  0.514  ...   \n",
       "95               2.478               0.445  0.127  ...   \n",
       "\n",
       "    Labour Groups: Positive  Labour Groups: Negative  \\\n",
       "89                    3.747                    0.000   \n",
       "90                    8.481                    0.000   \n",
       "91                    9.096                    0.000   \n",
       "92                    3.057                    0.266   \n",
       "93                    3.495                    0.072   \n",
       "94                    6.676                    0.000   \n",
       "95                    1.398                    0.127   \n",
       "\n",
       "    Middle Class and Professional Groups  Underprivileged Minority Groups  \\\n",
       "89                                 0.025                            0.177   \n",
       "90                                 0.000                            0.000   \n",
       "91                                 0.000                            0.119   \n",
       "92                                 0.842                            0.000   \n",
       "93                                 0.108                            0.180   \n",
       "94                                 0.147                            3.155   \n",
       "95                                 0.445                            0.445   \n",
       "\n",
       "    Non-economic Demographic Groups  Right-left position  Planned Economy  \\\n",
       "89                            0.152              -21.038            7.342   \n",
       "90                            0.103              -36.167            8.399   \n",
       "91                            0.476              -24.673            5.351   \n",
       "92                            0.133                0.266            3.057   \n",
       "93                            0.252                3.495            5.081   \n",
       "94                            0.073              -22.450            3.742   \n",
       "95                            0.318               26.048            2.541   \n",
       "\n",
       "    Market Economy  Welfare State  International Peace  \n",
       "89           0.304         19.342                1.519  \n",
       "90           0.062         28.427                4.467  \n",
       "91           0.119         22.414                2.081  \n",
       "92           6.424         14.222                1.019  \n",
       "93           3.063         10.703                0.468  \n",
       "94           0.073         25.092                0.660  \n",
       "95           8.386          7.687                0.572  \n",
       "\n",
       "[7 rows x 58 columns]"
      ]
     },
     "execution_count": 3,
     "metadata": {},
     "output_type": "execute_result"
    }
   ],
   "source": [
    "date_df = df[df['Calendar_Week'] == '202109']\n",
    "date_df"
   ]
  },
  {
   "cell_type": "code",
   "execution_count": 4,
   "id": "027c9c0b",
   "metadata": {},
   "outputs": [
    {
     "data": {
      "application/vnd.plotly.v1+json": {
       "config": {
        "plotlyServerURL": "https://plot.ly"
       },
       "data": [
        {
         "hovertemplate": "Party_Name=90/Greens<br>Right-left position=%{x}<br>Planned Economy=%{y}<extra></extra>",
         "legendgroup": "90/Greens",
         "marker": {
          "color": "#636efa",
          "size": 12,
          "symbol": "circle"
         },
         "mode": "markers",
         "name": "90/Greens",
         "orientation": "v",
         "showlegend": true,
         "type": "scatter",
         "x": [
          -21.038
         ],
         "xaxis": "x",
         "y": [
          7.342
         ],
         "yaxis": "y"
        },
        {
         "hovertemplate": "Party_Name=LINKE<br>Right-left position=%{x}<br>Planned Economy=%{y}<extra></extra>",
         "legendgroup": "LINKE",
         "marker": {
          "color": "#EF553B",
          "size": 12,
          "symbol": "circle"
         },
         "mode": "markers",
         "name": "LINKE",
         "orientation": "v",
         "showlegend": true,
         "type": "scatter",
         "x": [
          -36.167
         ],
         "xaxis": "x",
         "y": [
          8.399
         ],
         "yaxis": "y"
        },
        {
         "hovertemplate": "Party_Name=SPD<br>Right-left position=%{x}<br>Planned Economy=%{y}<extra></extra>",
         "legendgroup": "SPD",
         "marker": {
          "color": "#00cc96",
          "size": 12,
          "symbol": "circle"
         },
         "mode": "markers",
         "name": "SPD",
         "orientation": "v",
         "showlegend": true,
         "type": "scatter",
         "x": [
          -24.673
         ],
         "xaxis": "x",
         "y": [
          5.351
         ],
         "yaxis": "y"
        },
        {
         "hovertemplate": "Party_Name=FDP<br>Right-left position=%{x}<br>Planned Economy=%{y}<extra></extra>",
         "legendgroup": "FDP",
         "marker": {
          "color": "#ab63fa",
          "size": 12,
          "symbol": "circle"
         },
         "mode": "markers",
         "name": "FDP",
         "orientation": "v",
         "showlegend": true,
         "type": "scatter",
         "x": [
          0.266
         ],
         "xaxis": "x",
         "y": [
          3.057
         ],
         "yaxis": "y"
        },
        {
         "hovertemplate": "Party_Name=CDU/CSU<br>Right-left position=%{x}<br>Planned Economy=%{y}<extra></extra>",
         "legendgroup": "CDU/CSU",
         "marker": {
          "color": "#FFA15A",
          "size": 12,
          "symbol": "circle"
         },
         "mode": "markers",
         "name": "CDU/CSU",
         "orientation": "v",
         "showlegend": true,
         "type": "scatter",
         "x": [
          3.495
         ],
         "xaxis": "x",
         "y": [
          5.081
         ],
         "yaxis": "y"
        },
        {
         "hovertemplate": "Party_Name=SSW<br>Right-left position=%{x}<br>Planned Economy=%{y}<extra></extra>",
         "legendgroup": "SSW",
         "marker": {
          "color": "#19d3f3",
          "size": 12,
          "symbol": "circle"
         },
         "mode": "markers",
         "name": "SSW",
         "orientation": "v",
         "showlegend": true,
         "type": "scatter",
         "x": [
          -22.45
         ],
         "xaxis": "x",
         "y": [
          3.742
         ],
         "yaxis": "y"
        },
        {
         "hovertemplate": "Party_Name=AfD<br>Right-left position=%{x}<br>Planned Economy=%{y}<extra></extra>",
         "legendgroup": "AfD",
         "marker": {
          "color": "#FF6692",
          "size": 12,
          "symbol": "circle"
         },
         "mode": "markers",
         "name": "AfD",
         "orientation": "v",
         "showlegend": true,
         "type": "scatter",
         "x": [
          26.048
         ],
         "xaxis": "x",
         "y": [
          2.541
         ],
         "yaxis": "y"
        }
       ],
       "layout": {
        "legend": {
         "title": {
          "text": "Party_Name"
         },
         "tracegroupgap": 0
        },
        "margin": {
         "t": 60
        },
        "template": {
         "data": {
          "bar": [
           {
            "error_x": {
             "color": "#2a3f5f"
            },
            "error_y": {
             "color": "#2a3f5f"
            },
            "marker": {
             "line": {
              "color": "#E5ECF6",
              "width": 0.5
             },
             "pattern": {
              "fillmode": "overlay",
              "size": 10,
              "solidity": 0.2
             }
            },
            "type": "bar"
           }
          ],
          "barpolar": [
           {
            "marker": {
             "line": {
              "color": "#E5ECF6",
              "width": 0.5
             },
             "pattern": {
              "fillmode": "overlay",
              "size": 10,
              "solidity": 0.2
             }
            },
            "type": "barpolar"
           }
          ],
          "carpet": [
           {
            "aaxis": {
             "endlinecolor": "#2a3f5f",
             "gridcolor": "white",
             "linecolor": "white",
             "minorgridcolor": "white",
             "startlinecolor": "#2a3f5f"
            },
            "baxis": {
             "endlinecolor": "#2a3f5f",
             "gridcolor": "white",
             "linecolor": "white",
             "minorgridcolor": "white",
             "startlinecolor": "#2a3f5f"
            },
            "type": "carpet"
           }
          ],
          "choropleth": [
           {
            "colorbar": {
             "outlinewidth": 0,
             "ticks": ""
            },
            "type": "choropleth"
           }
          ],
          "contour": [
           {
            "colorbar": {
             "outlinewidth": 0,
             "ticks": ""
            },
            "colorscale": [
             [
              0,
              "#0d0887"
             ],
             [
              0.1111111111111111,
              "#46039f"
             ],
             [
              0.2222222222222222,
              "#7201a8"
             ],
             [
              0.3333333333333333,
              "#9c179e"
             ],
             [
              0.4444444444444444,
              "#bd3786"
             ],
             [
              0.5555555555555556,
              "#d8576b"
             ],
             [
              0.6666666666666666,
              "#ed7953"
             ],
             [
              0.7777777777777778,
              "#fb9f3a"
             ],
             [
              0.8888888888888888,
              "#fdca26"
             ],
             [
              1,
              "#f0f921"
             ]
            ],
            "type": "contour"
           }
          ],
          "contourcarpet": [
           {
            "colorbar": {
             "outlinewidth": 0,
             "ticks": ""
            },
            "type": "contourcarpet"
           }
          ],
          "heatmap": [
           {
            "colorbar": {
             "outlinewidth": 0,
             "ticks": ""
            },
            "colorscale": [
             [
              0,
              "#0d0887"
             ],
             [
              0.1111111111111111,
              "#46039f"
             ],
             [
              0.2222222222222222,
              "#7201a8"
             ],
             [
              0.3333333333333333,
              "#9c179e"
             ],
             [
              0.4444444444444444,
              "#bd3786"
             ],
             [
              0.5555555555555556,
              "#d8576b"
             ],
             [
              0.6666666666666666,
              "#ed7953"
             ],
             [
              0.7777777777777778,
              "#fb9f3a"
             ],
             [
              0.8888888888888888,
              "#fdca26"
             ],
             [
              1,
              "#f0f921"
             ]
            ],
            "type": "heatmap"
           }
          ],
          "heatmapgl": [
           {
            "colorbar": {
             "outlinewidth": 0,
             "ticks": ""
            },
            "colorscale": [
             [
              0,
              "#0d0887"
             ],
             [
              0.1111111111111111,
              "#46039f"
             ],
             [
              0.2222222222222222,
              "#7201a8"
             ],
             [
              0.3333333333333333,
              "#9c179e"
             ],
             [
              0.4444444444444444,
              "#bd3786"
             ],
             [
              0.5555555555555556,
              "#d8576b"
             ],
             [
              0.6666666666666666,
              "#ed7953"
             ],
             [
              0.7777777777777778,
              "#fb9f3a"
             ],
             [
              0.8888888888888888,
              "#fdca26"
             ],
             [
              1,
              "#f0f921"
             ]
            ],
            "type": "heatmapgl"
           }
          ],
          "histogram": [
           {
            "marker": {
             "pattern": {
              "fillmode": "overlay",
              "size": 10,
              "solidity": 0.2
             }
            },
            "type": "histogram"
           }
          ],
          "histogram2d": [
           {
            "colorbar": {
             "outlinewidth": 0,
             "ticks": ""
            },
            "colorscale": [
             [
              0,
              "#0d0887"
             ],
             [
              0.1111111111111111,
              "#46039f"
             ],
             [
              0.2222222222222222,
              "#7201a8"
             ],
             [
              0.3333333333333333,
              "#9c179e"
             ],
             [
              0.4444444444444444,
              "#bd3786"
             ],
             [
              0.5555555555555556,
              "#d8576b"
             ],
             [
              0.6666666666666666,
              "#ed7953"
             ],
             [
              0.7777777777777778,
              "#fb9f3a"
             ],
             [
              0.8888888888888888,
              "#fdca26"
             ],
             [
              1,
              "#f0f921"
             ]
            ],
            "type": "histogram2d"
           }
          ],
          "histogram2dcontour": [
           {
            "colorbar": {
             "outlinewidth": 0,
             "ticks": ""
            },
            "colorscale": [
             [
              0,
              "#0d0887"
             ],
             [
              0.1111111111111111,
              "#46039f"
             ],
             [
              0.2222222222222222,
              "#7201a8"
             ],
             [
              0.3333333333333333,
              "#9c179e"
             ],
             [
              0.4444444444444444,
              "#bd3786"
             ],
             [
              0.5555555555555556,
              "#d8576b"
             ],
             [
              0.6666666666666666,
              "#ed7953"
             ],
             [
              0.7777777777777778,
              "#fb9f3a"
             ],
             [
              0.8888888888888888,
              "#fdca26"
             ],
             [
              1,
              "#f0f921"
             ]
            ],
            "type": "histogram2dcontour"
           }
          ],
          "mesh3d": [
           {
            "colorbar": {
             "outlinewidth": 0,
             "ticks": ""
            },
            "type": "mesh3d"
           }
          ],
          "parcoords": [
           {
            "line": {
             "colorbar": {
              "outlinewidth": 0,
              "ticks": ""
             }
            },
            "type": "parcoords"
           }
          ],
          "pie": [
           {
            "automargin": true,
            "type": "pie"
           }
          ],
          "scatter": [
           {
            "fillpattern": {
             "fillmode": "overlay",
             "size": 10,
             "solidity": 0.2
            },
            "type": "scatter"
           }
          ],
          "scatter3d": [
           {
            "line": {
             "colorbar": {
              "outlinewidth": 0,
              "ticks": ""
             }
            },
            "marker": {
             "colorbar": {
              "outlinewidth": 0,
              "ticks": ""
             }
            },
            "type": "scatter3d"
           }
          ],
          "scattercarpet": [
           {
            "marker": {
             "colorbar": {
              "outlinewidth": 0,
              "ticks": ""
             }
            },
            "type": "scattercarpet"
           }
          ],
          "scattergeo": [
           {
            "marker": {
             "colorbar": {
              "outlinewidth": 0,
              "ticks": ""
             }
            },
            "type": "scattergeo"
           }
          ],
          "scattergl": [
           {
            "marker": {
             "colorbar": {
              "outlinewidth": 0,
              "ticks": ""
             }
            },
            "type": "scattergl"
           }
          ],
          "scattermapbox": [
           {
            "marker": {
             "colorbar": {
              "outlinewidth": 0,
              "ticks": ""
             }
            },
            "type": "scattermapbox"
           }
          ],
          "scatterpolar": [
           {
            "marker": {
             "colorbar": {
              "outlinewidth": 0,
              "ticks": ""
             }
            },
            "type": "scatterpolar"
           }
          ],
          "scatterpolargl": [
           {
            "marker": {
             "colorbar": {
              "outlinewidth": 0,
              "ticks": ""
             }
            },
            "type": "scatterpolargl"
           }
          ],
          "scatterternary": [
           {
            "marker": {
             "colorbar": {
              "outlinewidth": 0,
              "ticks": ""
             }
            },
            "type": "scatterternary"
           }
          ],
          "surface": [
           {
            "colorbar": {
             "outlinewidth": 0,
             "ticks": ""
            },
            "colorscale": [
             [
              0,
              "#0d0887"
             ],
             [
              0.1111111111111111,
              "#46039f"
             ],
             [
              0.2222222222222222,
              "#7201a8"
             ],
             [
              0.3333333333333333,
              "#9c179e"
             ],
             [
              0.4444444444444444,
              "#bd3786"
             ],
             [
              0.5555555555555556,
              "#d8576b"
             ],
             [
              0.6666666666666666,
              "#ed7953"
             ],
             [
              0.7777777777777778,
              "#fb9f3a"
             ],
             [
              0.8888888888888888,
              "#fdca26"
             ],
             [
              1,
              "#f0f921"
             ]
            ],
            "type": "surface"
           }
          ],
          "table": [
           {
            "cells": {
             "fill": {
              "color": "#EBF0F8"
             },
             "line": {
              "color": "white"
             }
            },
            "header": {
             "fill": {
              "color": "#C8D4E3"
             },
             "line": {
              "color": "white"
             }
            },
            "type": "table"
           }
          ]
         },
         "layout": {
          "annotationdefaults": {
           "arrowcolor": "#2a3f5f",
           "arrowhead": 0,
           "arrowwidth": 1
          },
          "autotypenumbers": "strict",
          "coloraxis": {
           "colorbar": {
            "outlinewidth": 0,
            "ticks": ""
           }
          },
          "colorscale": {
           "diverging": [
            [
             0,
             "#8e0152"
            ],
            [
             0.1,
             "#c51b7d"
            ],
            [
             0.2,
             "#de77ae"
            ],
            [
             0.3,
             "#f1b6da"
            ],
            [
             0.4,
             "#fde0ef"
            ],
            [
             0.5,
             "#f7f7f7"
            ],
            [
             0.6,
             "#e6f5d0"
            ],
            [
             0.7,
             "#b8e186"
            ],
            [
             0.8,
             "#7fbc41"
            ],
            [
             0.9,
             "#4d9221"
            ],
            [
             1,
             "#276419"
            ]
           ],
           "sequential": [
            [
             0,
             "#0d0887"
            ],
            [
             0.1111111111111111,
             "#46039f"
            ],
            [
             0.2222222222222222,
             "#7201a8"
            ],
            [
             0.3333333333333333,
             "#9c179e"
            ],
            [
             0.4444444444444444,
             "#bd3786"
            ],
            [
             0.5555555555555556,
             "#d8576b"
            ],
            [
             0.6666666666666666,
             "#ed7953"
            ],
            [
             0.7777777777777778,
             "#fb9f3a"
            ],
            [
             0.8888888888888888,
             "#fdca26"
            ],
            [
             1,
             "#f0f921"
            ]
           ],
           "sequentialminus": [
            [
             0,
             "#0d0887"
            ],
            [
             0.1111111111111111,
             "#46039f"
            ],
            [
             0.2222222222222222,
             "#7201a8"
            ],
            [
             0.3333333333333333,
             "#9c179e"
            ],
            [
             0.4444444444444444,
             "#bd3786"
            ],
            [
             0.5555555555555556,
             "#d8576b"
            ],
            [
             0.6666666666666666,
             "#ed7953"
            ],
            [
             0.7777777777777778,
             "#fb9f3a"
            ],
            [
             0.8888888888888888,
             "#fdca26"
            ],
            [
             1,
             "#f0f921"
            ]
           ]
          },
          "colorway": [
           "#636efa",
           "#EF553B",
           "#00cc96",
           "#ab63fa",
           "#FFA15A",
           "#19d3f3",
           "#FF6692",
           "#B6E880",
           "#FF97FF",
           "#FECB52"
          ],
          "font": {
           "color": "#2a3f5f"
          },
          "geo": {
           "bgcolor": "white",
           "lakecolor": "white",
           "landcolor": "#E5ECF6",
           "showlakes": true,
           "showland": true,
           "subunitcolor": "white"
          },
          "hoverlabel": {
           "align": "left"
          },
          "hovermode": "closest",
          "mapbox": {
           "style": "light"
          },
          "paper_bgcolor": "white",
          "plot_bgcolor": "#E5ECF6",
          "polar": {
           "angularaxis": {
            "gridcolor": "white",
            "linecolor": "white",
            "ticks": ""
           },
           "bgcolor": "#E5ECF6",
           "radialaxis": {
            "gridcolor": "white",
            "linecolor": "white",
            "ticks": ""
           }
          },
          "scene": {
           "xaxis": {
            "backgroundcolor": "#E5ECF6",
            "gridcolor": "white",
            "gridwidth": 2,
            "linecolor": "white",
            "showbackground": true,
            "ticks": "",
            "zerolinecolor": "white"
           },
           "yaxis": {
            "backgroundcolor": "#E5ECF6",
            "gridcolor": "white",
            "gridwidth": 2,
            "linecolor": "white",
            "showbackground": true,
            "ticks": "",
            "zerolinecolor": "white"
           },
           "zaxis": {
            "backgroundcolor": "#E5ECF6",
            "gridcolor": "white",
            "gridwidth": 2,
            "linecolor": "white",
            "showbackground": true,
            "ticks": "",
            "zerolinecolor": "white"
           }
          },
          "shapedefaults": {
           "line": {
            "color": "#2a3f5f"
           }
          },
          "ternary": {
           "aaxis": {
            "gridcolor": "white",
            "linecolor": "white",
            "ticks": ""
           },
           "baxis": {
            "gridcolor": "white",
            "linecolor": "white",
            "ticks": ""
           },
           "bgcolor": "#E5ECF6",
           "caxis": {
            "gridcolor": "white",
            "linecolor": "white",
            "ticks": ""
           }
          },
          "title": {
           "x": 0.05
          },
          "xaxis": {
           "automargin": true,
           "gridcolor": "white",
           "linecolor": "white",
           "ticks": "",
           "title": {
            "standoff": 15
           },
           "zerolinecolor": "white",
           "zerolinewidth": 2
          },
          "yaxis": {
           "automargin": true,
           "gridcolor": "white",
           "linecolor": "white",
           "ticks": "",
           "title": {
            "standoff": 15
           },
           "zerolinecolor": "white",
           "zerolinewidth": 2
          }
         }
        },
        "xaxis": {
         "anchor": "y",
         "domain": [
          0,
          1
         ],
         "title": {
          "text": "Right-left position"
         }
        },
        "yaxis": {
         "anchor": "x",
         "domain": [
          0,
          1
         ],
         "title": {
          "text": "Planned Economy"
         }
        }
       }
      }
     },
     "metadata": {},
     "output_type": "display_data"
    }
   ],
   "source": [
    "fig = px.scatter(date_df,\n",
    "    x='Right-left position',\n",
    "    y='Planned Economy',\n",
    "    color='Party_Name'\n",
    "    )\n",
    "fig.update_traces(marker=dict(size=12))"
   ]
  }
 ],
 "metadata": {
  "kernelspec": {
   "display_name": "i2dl",
   "language": "python",
   "name": "python3"
  },
  "language_info": {
   "codemirror_mode": {
    "name": "ipython",
    "version": 3
   },
   "file_extension": ".py",
   "mimetype": "text/x-python",
   "name": "python",
   "nbconvert_exporter": "python",
   "pygments_lexer": "ipython3",
   "version": "3.11.8"
  }
 },
 "nbformat": 4,
 "nbformat_minor": 5
}
