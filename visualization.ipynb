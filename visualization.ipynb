{
 "cells": [
  {
   "cell_type": "code",
   "execution_count": 1,
   "id": "0cfe808e",
   "metadata": {},
   "outputs": [],
   "source": [
    "import pandas as pd\n",
    "import plotly.express as px\n",
    "import plotly.graph_objects as go\n",
    "import data_preprocessing.data_preprocess as dp\n",
    "from scipy.stats import spearmanr\n",
    "import data_preprocessing.data_loading as dl\n",
    "import numpy as np\n",
    "from scipy.stats import gaussian_kde\n",
    "import matplotlib.pyplot as plt"
   ]
  },
  {
   "cell_type": "code",
   "execution_count": 2,
   "id": "87530e3a",
   "metadata": {},
   "outputs": [],
   "source": [
    "x_var='Democracy'\n",
    "y_var='Education Expansion'"
   ]
  },
  {
   "cell_type": "code",
   "execution_count": 3,
   "id": "36a8c975",
   "metadata": {},
   "outputs": [],
   "source": [
    "x_scaled = f\"{x_var} Scaled\"\n",
    "y_scaled = f\"{y_var} Scaled\"\n",
    "\n",
    "x_vmean = f\"{x_var} Voters_Mean\"\n",
    "y_vmean = f\"{y_var} Voters_Mean\"\n",
    "\n",
    "x_comb = f\"{x_var} Combined\"\n",
    "y_comb = f\"{y_var} Combined\""
   ]
  },
  {
   "cell_type": "code",
   "execution_count": 4,
   "id": "2ca33a89",
   "metadata": {},
   "outputs": [
    {
     "name": "stderr",
     "output_type": "stream",
     "text": [
      "/Users/hilmar/Desktop/projects/studium/Case_Study_TUM25/data_preprocessing/data_loading.py:40: DtypeWarning: Columns (10) have mixed types. Specify dtype option on import or set low_memory=False.\n",
      "  df = pd.read_csv(csv_path)\n",
      "/Users/hilmar/Desktop/projects/studium/Case_Study_TUM25/data_preprocessing/data_loading.py:57: FutureWarning: errors='ignore' is deprecated and will raise in a future version. Use to_numeric without passing `errors` and catch exceptions explicitly instead\n",
      "  df_filtered = df_filtered.apply(pd.to_numeric, errors=\"ignore\")\n"
     ]
    }
   ],
   "source": [
    "party_scaled, voter_scaled = dp.get_scaled_party_voter_data(x_var=x_var, y_var=y_var)"
   ]
  },
  {
   "cell_type": "code",
   "execution_count": 5,
   "id": "46824b52",
   "metadata": {},
   "outputs": [
    {
     "name": "stdout",
     "output_type": "stream",
     "text": [
      "Spearman ρ (x): -0.200 (p=0.704)\n",
      "Spearman ρ (y): -0.257 (p=0.623)\n",
      "\n",
      "Ordering by party manifesto on X (low→high): ['CDU/CSU', 'AfD', 'SPD', 'FDP', 'LINKE', '90/Greens']\n",
      "Ordering by voters mean on X (low→high): ['90/Greens', 'CDU/CSU', 'SPD', 'FDP', 'LINKE', 'AfD'] \n",
      "\n",
      "Ordering by party manifesto on Y (low→high): ['CDU/CSU', 'AfD', '90/Greens', 'LINKE', 'SPD', 'FDP']\n",
      "Ordering by voters mean on Y (low→high): ['SPD', 'CDU/CSU', 'FDP', 'LINKE', 'AfD', '90/Greens']\n"
     ]
    }
   ],
   "source": [
    "# 1. Spearman correlation of manifesto positions and voters mean positions\n",
    "rho_x, p_x = spearmanr(party_scaled[x_scaled], party_scaled[x_vmean])\n",
    "rho_y, p_y = spearmanr(party_scaled[y_scaled], party_scaled[y_vmean])\n",
    "print(f\"Spearman ρ (x): {rho_x:.3f} (p={p_x:.3f})\")\n",
    "print(f\"Spearman ρ (y): {rho_y:.3f} (p={p_y:.3f})\\n\")\n",
    "\n",
    "# 2. Sorted orderings of manifesto positions and voters mean positions\n",
    "order_party_x = party_scaled.sort_values(x_scaled)['Label'].tolist()\n",
    "order_voter_x = party_scaled.sort_values(x_vmean)['Label'].tolist()\n",
    "order_party_y = party_scaled.sort_values(y_scaled)['Label'].tolist()\n",
    "order_voter_y = party_scaled.sort_values(y_vmean)['Label'].tolist()\n",
    "\n",
    "print(\"Ordering by party manifesto on X (low→high):\", order_party_x)\n",
    "print(\"Ordering by voters mean on X (low→high):\", order_voter_x, \"\\n\")\n",
    "\n",
    "print(\"Ordering by party manifesto on Y (low→high):\", order_party_y)\n",
    "print(\"Ordering by voters mean on Y (low→high):\", order_voter_y)"
   ]
  },
  {
   "cell_type": "code",
   "execution_count": 6,
   "id": "5d79cf0c",
   "metadata": {},
   "outputs": [
    {
     "name": "stdout",
     "output_type": "stream",
     "text": [
      "Spearman ρ (x): 0.257 (p=0.623)\n",
      "Spearman ρ (y): 0.771 (p=0.072)\n",
      "\n",
      "Ordering by party manifesto on X (low→high): ['CDU/CSU', 'AfD', 'SPD', 'FDP', 'LINKE', '90/Greens']\n",
      "Ordering by weighted sum of manifesto and voters mean on X (low→high): ['CDU/CSU', 'SPD', '90/Greens', 'FDP', 'LINKE', 'AfD'] \n",
      "\n",
      "Ordering by party manifesto on Y (low→high): ['CDU/CSU', 'AfD', '90/Greens', 'LINKE', 'SPD', 'FDP']\n",
      "Ordering by weighted sum of manifesto and voters mean on Y (low→high): ['CDU/CSU', 'AfD', 'SPD', 'LINKE', '90/Greens', 'FDP']\n"
     ]
    }
   ],
   "source": [
    "# 1. Spearman correlation of manifesto positions and combination of manifesto + voters mean\n",
    "rho_x, p_x = spearmanr(party_scaled[x_scaled], party_scaled[x_comb])\n",
    "rho_y, p_y = spearmanr(party_scaled[y_scaled], party_scaled[y_comb])\n",
    "print(f\"Spearman ρ (x): {rho_x:.3f} (p={p_x:.3f})\")\n",
    "print(f\"Spearman ρ (y): {rho_y:.3f} (p={p_y:.3f})\\n\")\n",
    "\n",
    "# 2. Sorted orderings of manifesto positions and combination of manifesto + voters mean\n",
    "order_party_x = party_scaled.sort_values(x_scaled)['Label'].tolist()\n",
    "order_voter_x = party_scaled.sort_values(x_comb)['Label'].tolist()\n",
    "order_party_y = party_scaled.sort_values(y_scaled)['Label'].tolist()\n",
    "order_voter_y = party_scaled.sort_values(y_comb)['Label'].tolist()\n",
    "\n",
    "print(\"Ordering by party manifesto on X (low→high):\", order_party_x)\n",
    "print(\"Ordering by weighted sum of manifesto and voters mean on X (low→high):\", order_voter_x, \"\\n\")\n",
    "\n",
    "print(\"Ordering by party manifesto on Y (low→high):\", order_party_y)\n",
    "print(\"Ordering by weighted sum of manifesto and voters mean on Y (low→high):\", order_voter_y)"
   ]
  },
  {
   "cell_type": "code",
   "execution_count": 7,
   "id": "13ca1008",
   "metadata": {},
   "outputs": [
    {
     "data": {
      "application/vnd.plotly.v1+json": {
       "config": {
        "plotlyServerURL": "https://plot.ly"
       },
       "data": [
        {
         "hovertemplate": "Party_Name=90/Greens<br>Type=Manifesto Party position<br>Democracy (scaled)=%{x}<br>Education Expansion (scaled)=%{y}<extra></extra>",
         "legendgroup": "90/Greens, Manifesto Party position",
         "marker": {
          "color": "#636efa",
          "symbol": "circle"
         },
         "mode": "markers",
         "name": "90/Greens, Manifesto Party position",
         "orientation": "v",
         "showlegend": true,
         "type": "scatter",
         "x": {
          "bdata": "a+hjB/fo9D8=",
          "dtype": "f8"
         },
         "xaxis": "x",
         "y": {
          "bdata": "vh4liSU10D8=",
          "dtype": "f8"
         },
         "yaxis": "y"
        },
        {
         "hovertemplate": "Party_Name=90/Greens<br>Type=Voter Mean position<br>Democracy (scaled)=%{x}<br>Education Expansion (scaled)=%{y}<extra></extra>",
         "legendgroup": "90/Greens, Voter Mean position",
         "marker": {
          "color": "#636efa",
          "symbol": "diamond"
         },
         "mode": "markers",
         "name": "90/Greens, Voter Mean position",
         "orientation": "v",
         "showlegend": true,
         "type": "scatter",
         "x": {
          "bdata": "bdRhCFsA2b8=",
          "dtype": "f8"
         },
         "xaxis": "x",
         "y": {
          "bdata": "e4D5wnMGsD8=",
          "dtype": "f8"
         },
         "yaxis": "y"
        },
        {
         "hovertemplate": "Party_Name=90/Greens<br>Type=Final party position<br>Democracy (scaled)=%{x}<br>Education Expansion (scaled)=%{y}<extra></extra>",
         "legendgroup": "90/Greens, Final party position",
         "marker": {
          "color": "#636efa",
          "symbol": "square"
         },
         "mode": "markers",
         "name": "90/Greens, Final party position",
         "orientation": "v",
         "showlegend": true,
         "type": "scatter",
         "x": {
          "bdata": "eOYl00wvqr8=",
          "dtype": "f8"
         },
         "xaxis": "x",
         "y": {
          "bdata": "YX8YcEfJuT8=",
          "dtype": "f8"
         },
         "yaxis": "y"
        },
        {
         "hovertemplate": "Party_Name=LINKE<br>Type=Manifesto Party position<br>Democracy (scaled)=%{x}<br>Education Expansion (scaled)=%{y}<extra></extra>",
         "legendgroup": "LINKE, Manifesto Party position",
         "marker": {
          "color": "#EF553B",
          "symbol": "circle"
         },
         "mode": "markers",
         "name": "LINKE, Manifesto Party position",
         "orientation": "v",
         "showlegend": true,
         "type": "scatter",
         "x": {
          "bdata": "1DRLy6bO8j8=",
          "dtype": "f8"
         },
         "xaxis": "x",
         "y": {
          "bdata": "OSTL51sA1T8=",
          "dtype": "f8"
         },
         "yaxis": "y"
        },
        {
         "hovertemplate": "Party_Name=LINKE<br>Type=Voter Mean position<br>Democracy (scaled)=%{x}<br>Education Expansion (scaled)=%{y}<extra></extra>",
         "legendgroup": "LINKE, Voter Mean position",
         "marker": {
          "color": "#EF553B",
          "symbol": "diamond"
         },
         "mode": "markers",
         "name": "LINKE, Voter Mean position",
         "orientation": "v",
         "showlegend": true,
         "type": "scatter",
         "x": {
          "bdata": "rBfdoO4Xyz8=",
          "dtype": "f8"
         },
         "xaxis": "x",
         "y": {
          "bdata": "zEWjiasWmj8=",
          "dtype": "f8"
         },
         "yaxis": "y"
        },
        {
         "hovertemplate": "Party_Name=LINKE<br>Type=Final party position<br>Democracy (scaled)=%{x}<br>Education Expansion (scaled)=%{y}<extra></extra>",
         "legendgroup": "LINKE, Final party position",
         "marker": {
          "color": "#EF553B",
          "symbol": "square"
         },
         "mode": "markers",
         "name": "LINKE, Final party position",
         "orientation": "v",
         "showlegend": true,
         "type": "scatter",
         "x": {
          "bdata": "vDMuFhji2T8=",
          "dtype": "f8"
         },
         "xaxis": "x",
         "y": {
          "bdata": "isRcO9IEtj8=",
          "dtype": "f8"
         },
         "yaxis": "y"
        },
        {
         "hovertemplate": "Party_Name=SPD<br>Type=Manifesto Party position<br>Democracy (scaled)=%{x}<br>Education Expansion (scaled)=%{y}<extra></extra>",
         "legendgroup": "SPD, Manifesto Party position",
         "marker": {
          "color": "#00cc96",
          "symbol": "circle"
         },
         "mode": "markers",
         "name": "SPD, Manifesto Party position",
         "orientation": "v",
         "showlegend": true,
         "type": "scatter",
         "x": {
          "bdata": "l7XPjs0O2b8=",
          "dtype": "f8"
         },
         "xaxis": "x",
         "y": {
          "bdata": "m2rcmiQD4T8=",
          "dtype": "f8"
         },
         "yaxis": "y"
        },
        {
         "hovertemplate": "Party_Name=SPD<br>Type=Voter Mean position<br>Democracy (scaled)=%{x}<br>Education Expansion (scaled)=%{y}<extra></extra>",
         "legendgroup": "SPD, Voter Mean position",
         "marker": {
          "color": "#00cc96",
          "symbol": "diamond"
         },
         "mode": "markers",
         "name": "SPD, Voter Mean position",
         "orientation": "v",
         "showlegend": true,
         "type": "scatter",
         "x": {
          "bdata": "3e4/XR3nzL8=",
          "dtype": "f8"
         },
         "xaxis": "x",
         "y": {
          "bdata": "Rfxn/bsUpr8=",
          "dtype": "f8"
         },
         "yaxis": "y"
        },
        {
         "hovertemplate": "Party_Name=SPD<br>Type=Final party position<br>Democracy (scaled)=%{x}<br>Education Expansion (scaled)=%{y}<extra></extra>",
         "legendgroup": "SPD, Final party position",
         "marker": {
          "color": "#00cc96",
          "symbol": "square"
         },
         "mode": "markers",
         "name": "SPD, Final party position",
         "orientation": "v",
         "showlegend": true,
         "type": "scatter",
         "x": {
          "bdata": "ELfcQZuS0L8=",
          "dtype": "f8"
         },
         "xaxis": "x",
         "y": {
          "bdata": "qkVqkiJjsj8=",
          "dtype": "f8"
         },
         "yaxis": "y"
        },
        {
         "hovertemplate": "Party_Name=FDP<br>Type=Manifesto Party position<br>Democracy (scaled)=%{x}<br>Education Expansion (scaled)=%{y}<extra></extra>",
         "legendgroup": "FDP, Manifesto Party position",
         "marker": {
          "color": "#ab63fa",
          "symbol": "circle"
         },
         "mode": "markers",
         "name": "FDP, Manifesto Party position",
         "orientation": "v",
         "showlegend": true,
         "type": "scatter",
         "x": {
          "bdata": "ezGz5hVE4T8=",
          "dtype": "f8"
         },
         "xaxis": "x",
         "y": {
          "bdata": "+Ar1+9RW/T8=",
          "dtype": "f8"
         },
         "yaxis": "y"
        },
        {
         "hovertemplate": "Party_Name=FDP<br>Type=Voter Mean position<br>Democracy (scaled)=%{x}<br>Education Expansion (scaled)=%{y}<extra></extra>",
         "legendgroup": "FDP, Voter Mean position",
         "marker": {
          "color": "#ab63fa",
          "symbol": "diamond"
         },
         "mode": "markers",
         "name": "FDP, Voter Mean position",
         "orientation": "v",
         "showlegend": true,
         "type": "scatter",
         "x": {
          "bdata": "RFVgcTxLcL8=",
          "dtype": "f8"
         },
         "xaxis": "x",
         "y": {
          "bdata": "kcVrVwZvj78=",
          "dtype": "f8"
         },
         "yaxis": "y"
        },
        {
         "hovertemplate": "Party_Name=FDP<br>Type=Final party position<br>Democracy (scaled)=%{x}<br>Education Expansion (scaled)=%{y}<extra></extra>",
         "legendgroup": "FDP, Final party position",
         "marker": {
          "color": "#ab63fa",
          "symbol": "square"
         },
         "mode": "markers",
         "name": "FDP, Final party position",
         "orientation": "v",
         "showlegend": true,
         "type": "scatter",
         "x": {
          "bdata": "6UpAOJPPuj8=",
          "dtype": "f8"
         },
         "xaxis": "x",
         "y": {
          "bdata": "cL3HbX2v1j8=",
          "dtype": "f8"
         },
         "yaxis": "y"
        },
        {
         "hovertemplate": "Party_Name=CDU/CSU<br>Type=Manifesto Party position<br>Democracy (scaled)=%{x}<br>Education Expansion (scaled)=%{y}<extra></extra>",
         "legendgroup": "CDU/CSU, Manifesto Party position",
         "marker": {
          "color": "#FFA15A",
          "symbol": "circle"
         },
         "mode": "markers",
         "name": "CDU/CSU, Manifesto Party position",
         "orientation": "v",
         "showlegend": true,
         "type": "scatter",
         "x": {
          "bdata": "xZW/DYpf+78=",
          "dtype": "f8"
         },
         "xaxis": "x",
         "y": {
          "bdata": "WnMKEROe878=",
          "dtype": "f8"
         },
         "yaxis": "y"
        },
        {
         "hovertemplate": "Party_Name=CDU/CSU<br>Type=Voter Mean position<br>Democracy (scaled)=%{x}<br>Education Expansion (scaled)=%{y}<extra></extra>",
         "legendgroup": "CDU/CSU, Voter Mean position",
         "marker": {
          "color": "#FFA15A",
          "symbol": "diamond"
         },
         "mode": "markers",
         "name": "CDU/CSU, Voter Mean position",
         "orientation": "v",
         "showlegend": true,
         "type": "scatter",
         "x": {
          "bdata": "7UXWk1a71L8=",
          "dtype": "f8"
         },
         "xaxis": "x",
         "y": {
          "bdata": "y3HTCXKxkL8=",
          "dtype": "f8"
         },
         "yaxis": "y"
        },
        {
         "hovertemplate": "Party_Name=CDU/CSU<br>Type=Final party position<br>Democracy (scaled)=%{x}<br>Education Expansion (scaled)=%{y}<extra></extra>",
         "legendgroup": "CDU/CSU, Final party position",
         "marker": {
          "color": "#FFA15A",
          "symbol": "square"
         },
         "mode": "markers",
         "name": "CDU/CSU, Final party position",
         "orientation": "v",
         "showlegend": true,
         "type": "scatter",
         "x": {
          "bdata": "FIvVc/M9478=",
          "dtype": "f8"
         },
         "xaxis": "x",
         "y": {
          "bdata": "+SGG9FSH0L8=",
          "dtype": "f8"
         },
         "yaxis": "y"
        },
        {
         "hovertemplate": "Party_Name=AfD<br>Type=Manifesto Party position<br>Democracy (scaled)=%{x}<br>Education Expansion (scaled)=%{y}<extra></extra>",
         "legendgroup": "AfD, Manifesto Party position",
         "marker": {
          "color": "#19d3f3",
          "symbol": "circle"
         },
         "mode": "markers",
         "name": "AfD, Manifesto Party position",
         "orientation": "v",
         "showlegend": true,
         "type": "scatter",
         "x": {
          "bdata": "YOGsi51t5r8=",
          "dtype": "f8"
         },
         "xaxis": "x",
         "y": {
          "bdata": "Gx1EAYrR8r8=",
          "dtype": "f8"
         },
         "yaxis": "y"
        },
        {
         "hovertemplate": "Party_Name=AfD<br>Type=Voter Mean position<br>Democracy (scaled)=%{x}<br>Education Expansion (scaled)=%{y}<extra></extra>",
         "legendgroup": "AfD, Voter Mean position",
         "marker": {
          "color": "#19d3f3",
          "symbol": "diamond"
         },
         "mode": "markers",
         "name": "AfD, Voter Mean position",
         "orientation": "v",
         "showlegend": true,
         "type": "scatter",
         "x": {
          "bdata": "v7k6T7qO8T8=",
          "dtype": "f8"
         },
         "xaxis": "x",
         "y": {
          "bdata": "VdO8M39MnT8=",
          "dtype": "f8"
         },
         "yaxis": "y"
        },
        {
         "hovertemplate": "Party_Name=AfD<br>Type=Final party position<br>Democracy (scaled)=%{x}<br>Education Expansion (scaled)=%{y}<extra></extra>",
         "legendgroup": "AfD, Final party position",
         "marker": {
          "color": "#19d3f3",
          "symbol": "square"
         },
         "mode": "markers",
         "name": "AfD, Final party position",
         "orientation": "v",
         "showlegend": true,
         "type": "scatter",
         "x": {
          "bdata": "hWI7yT2b5z8=",
          "dtype": "f8"
         },
         "xaxis": "x",
         "y": {
          "bdata": "POamSQMuy78=",
          "dtype": "f8"
         },
         "yaxis": "y"
        }
       ],
       "layout": {
        "legend": {
         "title": {
          "text": "Party_Name, Type"
         },
         "tracegroupgap": 0
        },
        "template": {
         "data": {
          "bar": [
           {
            "error_x": {
             "color": "#2a3f5f"
            },
            "error_y": {
             "color": "#2a3f5f"
            },
            "marker": {
             "line": {
              "color": "#E5ECF6",
              "width": 0.5
             },
             "pattern": {
              "fillmode": "overlay",
              "size": 10,
              "solidity": 0.2
             }
            },
            "type": "bar"
           }
          ],
          "barpolar": [
           {
            "marker": {
             "line": {
              "color": "#E5ECF6",
              "width": 0.5
             },
             "pattern": {
              "fillmode": "overlay",
              "size": 10,
              "solidity": 0.2
             }
            },
            "type": "barpolar"
           }
          ],
          "carpet": [
           {
            "aaxis": {
             "endlinecolor": "#2a3f5f",
             "gridcolor": "white",
             "linecolor": "white",
             "minorgridcolor": "white",
             "startlinecolor": "#2a3f5f"
            },
            "baxis": {
             "endlinecolor": "#2a3f5f",
             "gridcolor": "white",
             "linecolor": "white",
             "minorgridcolor": "white",
             "startlinecolor": "#2a3f5f"
            },
            "type": "carpet"
           }
          ],
          "choropleth": [
           {
            "colorbar": {
             "outlinewidth": 0,
             "ticks": ""
            },
            "type": "choropleth"
           }
          ],
          "contour": [
           {
            "colorbar": {
             "outlinewidth": 0,
             "ticks": ""
            },
            "colorscale": [
             [
              0,
              "#0d0887"
             ],
             [
              0.1111111111111111,
              "#46039f"
             ],
             [
              0.2222222222222222,
              "#7201a8"
             ],
             [
              0.3333333333333333,
              "#9c179e"
             ],
             [
              0.4444444444444444,
              "#bd3786"
             ],
             [
              0.5555555555555556,
              "#d8576b"
             ],
             [
              0.6666666666666666,
              "#ed7953"
             ],
             [
              0.7777777777777778,
              "#fb9f3a"
             ],
             [
              0.8888888888888888,
              "#fdca26"
             ],
             [
              1,
              "#f0f921"
             ]
            ],
            "type": "contour"
           }
          ],
          "contourcarpet": [
           {
            "colorbar": {
             "outlinewidth": 0,
             "ticks": ""
            },
            "type": "contourcarpet"
           }
          ],
          "heatmap": [
           {
            "colorbar": {
             "outlinewidth": 0,
             "ticks": ""
            },
            "colorscale": [
             [
              0,
              "#0d0887"
             ],
             [
              0.1111111111111111,
              "#46039f"
             ],
             [
              0.2222222222222222,
              "#7201a8"
             ],
             [
              0.3333333333333333,
              "#9c179e"
             ],
             [
              0.4444444444444444,
              "#bd3786"
             ],
             [
              0.5555555555555556,
              "#d8576b"
             ],
             [
              0.6666666666666666,
              "#ed7953"
             ],
             [
              0.7777777777777778,
              "#fb9f3a"
             ],
             [
              0.8888888888888888,
              "#fdca26"
             ],
             [
              1,
              "#f0f921"
             ]
            ],
            "type": "heatmap"
           }
          ],
          "histogram": [
           {
            "marker": {
             "pattern": {
              "fillmode": "overlay",
              "size": 10,
              "solidity": 0.2
             }
            },
            "type": "histogram"
           }
          ],
          "histogram2d": [
           {
            "colorbar": {
             "outlinewidth": 0,
             "ticks": ""
            },
            "colorscale": [
             [
              0,
              "#0d0887"
             ],
             [
              0.1111111111111111,
              "#46039f"
             ],
             [
              0.2222222222222222,
              "#7201a8"
             ],
             [
              0.3333333333333333,
              "#9c179e"
             ],
             [
              0.4444444444444444,
              "#bd3786"
             ],
             [
              0.5555555555555556,
              "#d8576b"
             ],
             [
              0.6666666666666666,
              "#ed7953"
             ],
             [
              0.7777777777777778,
              "#fb9f3a"
             ],
             [
              0.8888888888888888,
              "#fdca26"
             ],
             [
              1,
              "#f0f921"
             ]
            ],
            "type": "histogram2d"
           }
          ],
          "histogram2dcontour": [
           {
            "colorbar": {
             "outlinewidth": 0,
             "ticks": ""
            },
            "colorscale": [
             [
              0,
              "#0d0887"
             ],
             [
              0.1111111111111111,
              "#46039f"
             ],
             [
              0.2222222222222222,
              "#7201a8"
             ],
             [
              0.3333333333333333,
              "#9c179e"
             ],
             [
              0.4444444444444444,
              "#bd3786"
             ],
             [
              0.5555555555555556,
              "#d8576b"
             ],
             [
              0.6666666666666666,
              "#ed7953"
             ],
             [
              0.7777777777777778,
              "#fb9f3a"
             ],
             [
              0.8888888888888888,
              "#fdca26"
             ],
             [
              1,
              "#f0f921"
             ]
            ],
            "type": "histogram2dcontour"
           }
          ],
          "mesh3d": [
           {
            "colorbar": {
             "outlinewidth": 0,
             "ticks": ""
            },
            "type": "mesh3d"
           }
          ],
          "parcoords": [
           {
            "line": {
             "colorbar": {
              "outlinewidth": 0,
              "ticks": ""
             }
            },
            "type": "parcoords"
           }
          ],
          "pie": [
           {
            "automargin": true,
            "type": "pie"
           }
          ],
          "scatter": [
           {
            "fillpattern": {
             "fillmode": "overlay",
             "size": 10,
             "solidity": 0.2
            },
            "type": "scatter"
           }
          ],
          "scatter3d": [
           {
            "line": {
             "colorbar": {
              "outlinewidth": 0,
              "ticks": ""
             }
            },
            "marker": {
             "colorbar": {
              "outlinewidth": 0,
              "ticks": ""
             }
            },
            "type": "scatter3d"
           }
          ],
          "scattercarpet": [
           {
            "marker": {
             "colorbar": {
              "outlinewidth": 0,
              "ticks": ""
             }
            },
            "type": "scattercarpet"
           }
          ],
          "scattergeo": [
           {
            "marker": {
             "colorbar": {
              "outlinewidth": 0,
              "ticks": ""
             }
            },
            "type": "scattergeo"
           }
          ],
          "scattergl": [
           {
            "marker": {
             "colorbar": {
              "outlinewidth": 0,
              "ticks": ""
             }
            },
            "type": "scattergl"
           }
          ],
          "scattermap": [
           {
            "marker": {
             "colorbar": {
              "outlinewidth": 0,
              "ticks": ""
             }
            },
            "type": "scattermap"
           }
          ],
          "scattermapbox": [
           {
            "marker": {
             "colorbar": {
              "outlinewidth": 0,
              "ticks": ""
             }
            },
            "type": "scattermapbox"
           }
          ],
          "scatterpolar": [
           {
            "marker": {
             "colorbar": {
              "outlinewidth": 0,
              "ticks": ""
             }
            },
            "type": "scatterpolar"
           }
          ],
          "scatterpolargl": [
           {
            "marker": {
             "colorbar": {
              "outlinewidth": 0,
              "ticks": ""
             }
            },
            "type": "scatterpolargl"
           }
          ],
          "scatterternary": [
           {
            "marker": {
             "colorbar": {
              "outlinewidth": 0,
              "ticks": ""
             }
            },
            "type": "scatterternary"
           }
          ],
          "surface": [
           {
            "colorbar": {
             "outlinewidth": 0,
             "ticks": ""
            },
            "colorscale": [
             [
              0,
              "#0d0887"
             ],
             [
              0.1111111111111111,
              "#46039f"
             ],
             [
              0.2222222222222222,
              "#7201a8"
             ],
             [
              0.3333333333333333,
              "#9c179e"
             ],
             [
              0.4444444444444444,
              "#bd3786"
             ],
             [
              0.5555555555555556,
              "#d8576b"
             ],
             [
              0.6666666666666666,
              "#ed7953"
             ],
             [
              0.7777777777777778,
              "#fb9f3a"
             ],
             [
              0.8888888888888888,
              "#fdca26"
             ],
             [
              1,
              "#f0f921"
             ]
            ],
            "type": "surface"
           }
          ],
          "table": [
           {
            "cells": {
             "fill": {
              "color": "#EBF0F8"
             },
             "line": {
              "color": "white"
             }
            },
            "header": {
             "fill": {
              "color": "#C8D4E3"
             },
             "line": {
              "color": "white"
             }
            },
            "type": "table"
           }
          ]
         },
         "layout": {
          "annotationdefaults": {
           "arrowcolor": "#2a3f5f",
           "arrowhead": 0,
           "arrowwidth": 1
          },
          "autotypenumbers": "strict",
          "coloraxis": {
           "colorbar": {
            "outlinewidth": 0,
            "ticks": ""
           }
          },
          "colorscale": {
           "diverging": [
            [
             0,
             "#8e0152"
            ],
            [
             0.1,
             "#c51b7d"
            ],
            [
             0.2,
             "#de77ae"
            ],
            [
             0.3,
             "#f1b6da"
            ],
            [
             0.4,
             "#fde0ef"
            ],
            [
             0.5,
             "#f7f7f7"
            ],
            [
             0.6,
             "#e6f5d0"
            ],
            [
             0.7,
             "#b8e186"
            ],
            [
             0.8,
             "#7fbc41"
            ],
            [
             0.9,
             "#4d9221"
            ],
            [
             1,
             "#276419"
            ]
           ],
           "sequential": [
            [
             0,
             "#0d0887"
            ],
            [
             0.1111111111111111,
             "#46039f"
            ],
            [
             0.2222222222222222,
             "#7201a8"
            ],
            [
             0.3333333333333333,
             "#9c179e"
            ],
            [
             0.4444444444444444,
             "#bd3786"
            ],
            [
             0.5555555555555556,
             "#d8576b"
            ],
            [
             0.6666666666666666,
             "#ed7953"
            ],
            [
             0.7777777777777778,
             "#fb9f3a"
            ],
            [
             0.8888888888888888,
             "#fdca26"
            ],
            [
             1,
             "#f0f921"
            ]
           ],
           "sequentialminus": [
            [
             0,
             "#0d0887"
            ],
            [
             0.1111111111111111,
             "#46039f"
            ],
            [
             0.2222222222222222,
             "#7201a8"
            ],
            [
             0.3333333333333333,
             "#9c179e"
            ],
            [
             0.4444444444444444,
             "#bd3786"
            ],
            [
             0.5555555555555556,
             "#d8576b"
            ],
            [
             0.6666666666666666,
             "#ed7953"
            ],
            [
             0.7777777777777778,
             "#fb9f3a"
            ],
            [
             0.8888888888888888,
             "#fdca26"
            ],
            [
             1,
             "#f0f921"
            ]
           ]
          },
          "colorway": [
           "#636efa",
           "#EF553B",
           "#00cc96",
           "#ab63fa",
           "#FFA15A",
           "#19d3f3",
           "#FF6692",
           "#B6E880",
           "#FF97FF",
           "#FECB52"
          ],
          "font": {
           "color": "#2a3f5f"
          },
          "geo": {
           "bgcolor": "white",
           "lakecolor": "white",
           "landcolor": "#E5ECF6",
           "showlakes": true,
           "showland": true,
           "subunitcolor": "white"
          },
          "hoverlabel": {
           "align": "left"
          },
          "hovermode": "closest",
          "mapbox": {
           "style": "light"
          },
          "paper_bgcolor": "white",
          "plot_bgcolor": "#E5ECF6",
          "polar": {
           "angularaxis": {
            "gridcolor": "white",
            "linecolor": "white",
            "ticks": ""
           },
           "bgcolor": "#E5ECF6",
           "radialaxis": {
            "gridcolor": "white",
            "linecolor": "white",
            "ticks": ""
           }
          },
          "scene": {
           "xaxis": {
            "backgroundcolor": "#E5ECF6",
            "gridcolor": "white",
            "gridwidth": 2,
            "linecolor": "white",
            "showbackground": true,
            "ticks": "",
            "zerolinecolor": "white"
           },
           "yaxis": {
            "backgroundcolor": "#E5ECF6",
            "gridcolor": "white",
            "gridwidth": 2,
            "linecolor": "white",
            "showbackground": true,
            "ticks": "",
            "zerolinecolor": "white"
           },
           "zaxis": {
            "backgroundcolor": "#E5ECF6",
            "gridcolor": "white",
            "gridwidth": 2,
            "linecolor": "white",
            "showbackground": true,
            "ticks": "",
            "zerolinecolor": "white"
           }
          },
          "shapedefaults": {
           "line": {
            "color": "#2a3f5f"
           }
          },
          "ternary": {
           "aaxis": {
            "gridcolor": "white",
            "linecolor": "white",
            "ticks": ""
           },
           "baxis": {
            "gridcolor": "white",
            "linecolor": "white",
            "ticks": ""
           },
           "bgcolor": "#E5ECF6",
           "caxis": {
            "gridcolor": "white",
            "linecolor": "white",
            "ticks": ""
           }
          },
          "title": {
           "x": 0.05
          },
          "xaxis": {
           "automargin": true,
           "gridcolor": "white",
           "linecolor": "white",
           "ticks": "",
           "title": {
            "standoff": 15
           },
           "zerolinecolor": "white",
           "zerolinewidth": 2
          },
          "yaxis": {
           "automargin": true,
           "gridcolor": "white",
           "linecolor": "white",
           "ticks": "",
           "title": {
            "standoff": 15
           },
           "zerolinecolor": "white",
           "zerolinewidth": 2
          }
         }
        },
        "title": {
         "text": "Democracy vs. Education Expansion: party positions (manifesto, mean, final)"
        },
        "xaxis": {
         "anchor": "y",
         "domain": [
          0,
          1
         ],
         "title": {
          "text": "Democracy (scaled)"
         }
        },
        "yaxis": {
         "anchor": "x",
         "domain": [
          0,
          1
         ],
         "title": {
          "text": "Education Expansion (scaled)"
         }
        }
       }
      }
     },
     "metadata": {},
     "output_type": "display_data"
    }
   ],
   "source": [
    "true_df = (party_scaled[['Party_Name', x_scaled, y_scaled]].rename(columns={x_scaled:'x', y_scaled:'y'}).assign(Type='Manifesto Party position'))\n",
    "\n",
    "mean_df = (party_scaled[['Party_Name', x_vmean, y_vmean]].rename(columns={x_vmean:'x', y_vmean:'y'}).assign(Type='Voter Mean position'))\n",
    "\n",
    "comb_df = (party_scaled[['Party_Name', x_comb, y_comb]].rename(columns={x_comb:'x', y_comb:'y'}).assign(Type='Final party position'))\n",
    "\n",
    "# Stack them\n",
    "plot_df = pd.concat([true_df, mean_df, comb_df], ignore_index=True)\n",
    "\n",
    "# Scatter\n",
    "fig = px.scatter(plot_df, x='x', y='y', color='Party_Name', symbol='Type',\n",
    "                 title=f'{x_var} vs. {y_var}: party positions (manifesto, mean, final)',\n",
    "                 labels={'x':f'{x_var} (scaled)', 'y':f'{y_var} (scaled)'})\n",
    "\n",
    "# 4) Tweak marker sizes\n",
    "fig.update_traces(\n",
    "    selector=dict(Type='Manifesto Party position'),\n",
    "    marker=dict(size=12, symbol='circle-open')\n",
    ")\n",
    "fig.update_traces(\n",
    "    selector=dict(Type='Voter Mean position'),\n",
    "    marker=dict(size=16, symbol='x', line=dict(width=3))\n",
    ")\n",
    "fig.update_traces(\n",
    "    selector=dict(Type='Final party position'),\n",
    "    marker=dict(size=12, symbol='diamond')\n",
    ")\n",
    "\n",
    "fig.show()"
   ]
  },
  {
   "cell_type": "code",
   "execution_count": 8,
   "id": "49db009b",
   "metadata": {},
   "outputs": [],
   "source": [
    "party_scaled_df = party_scaled[['Country', 'Date', 'Calendar_Week', 'Party_Name', f\"{x_var} Combined\", f\"{y_var} Combined\", \"Label\"]].rename(columns={\n",
    "    f'{x_var} Combined': f'{x_var} Scaled',\n",
    "    f'{y_var} Combined': f'{y_var} Scaled'})"
   ]
  },
  {
   "cell_type": "code",
   "execution_count": 9,
   "id": "1ca3d905",
   "metadata": {},
   "outputs": [
    {
     "data": {
      "application/vnd.plotly.v1+json": {
       "config": {
        "plotlyServerURL": "https://plot.ly"
       },
       "data": [
        {
         "hovertemplate": "Label=Voter<br>Democracy Scaled=%{x}<br>Education Expansion Scaled=%{y}<extra></extra>",
         "legendgroup": "Voter",
         "marker": {
          "color": "#636efa",
          "size": 10,
          "symbol": "circle"
         },
         "mode": "markers",
         "name": "Voter",
         "showlegend": true,
         "type": "scattergl",
         "x": {
          "bdata": "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",
          "dtype": "f8"
         },
         "xaxis": "x",
         "y": {
          "bdata": "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",
          "dtype": "f8"
         },
         "yaxis": "y"
        },
        {
         "hovertemplate": "Label=90/Greens<br>Democracy Scaled=%{x}<br>Education Expansion Scaled=%{y}<extra></extra>",
         "legendgroup": "90/Greens",
         "marker": {
          "color": "#EF553B",
          "size": 10,
          "symbol": "diamond"
         },
         "mode": "markers",
         "name": "90/Greens",
         "showlegend": true,
         "type": "scattergl",
         "x": {
          "bdata": "eOYl00wvqr8=",
          "dtype": "f8"
         },
         "xaxis": "x",
         "y": {
          "bdata": "YX8YcEfJuT8=",
          "dtype": "f8"
         },
         "yaxis": "y"
        },
        {
         "hovertemplate": "Label=LINKE<br>Democracy Scaled=%{x}<br>Education Expansion Scaled=%{y}<extra></extra>",
         "legendgroup": "LINKE",
         "marker": {
          "color": "#00cc96",
          "size": 10,
          "symbol": "square"
         },
         "mode": "markers",
         "name": "LINKE",
         "showlegend": true,
         "type": "scattergl",
         "x": {
          "bdata": "vDMuFhji2T8=",
          "dtype": "f8"
         },
         "xaxis": "x",
         "y": {
          "bdata": "isRcO9IEtj8=",
          "dtype": "f8"
         },
         "yaxis": "y"
        },
        {
         "hovertemplate": "Label=SPD<br>Democracy Scaled=%{x}<br>Education Expansion Scaled=%{y}<extra></extra>",
         "legendgroup": "SPD",
         "marker": {
          "color": "#ab63fa",
          "size": 10,
          "symbol": "x"
         },
         "mode": "markers",
         "name": "SPD",
         "showlegend": true,
         "type": "scattergl",
         "x": {
          "bdata": "ELfcQZuS0L8=",
          "dtype": "f8"
         },
         "xaxis": "x",
         "y": {
          "bdata": "qkVqkiJjsj8=",
          "dtype": "f8"
         },
         "yaxis": "y"
        },
        {
         "hovertemplate": "Label=FDP<br>Democracy Scaled=%{x}<br>Education Expansion Scaled=%{y}<extra></extra>",
         "legendgroup": "FDP",
         "marker": {
          "color": "#FFA15A",
          "size": 10,
          "symbol": "cross"
         },
         "mode": "markers",
         "name": "FDP",
         "showlegend": true,
         "type": "scattergl",
         "x": {
          "bdata": "6UpAOJPPuj8=",
          "dtype": "f8"
         },
         "xaxis": "x",
         "y": {
          "bdata": "cL3HbX2v1j8=",
          "dtype": "f8"
         },
         "yaxis": "y"
        },
        {
         "hovertemplate": "Label=CDU/CSU<br>Democracy Scaled=%{x}<br>Education Expansion Scaled=%{y}<extra></extra>",
         "legendgroup": "CDU/CSU",
         "marker": {
          "color": "#19d3f3",
          "size": 10,
          "symbol": "circle"
         },
         "mode": "markers",
         "name": "CDU/CSU",
         "showlegend": true,
         "type": "scattergl",
         "x": {
          "bdata": "FIvVc/M9478=",
          "dtype": "f8"
         },
         "xaxis": "x",
         "y": {
          "bdata": "+SGG9FSH0L8=",
          "dtype": "f8"
         },
         "yaxis": "y"
        },
        {
         "hovertemplate": "Label=AfD<br>Democracy Scaled=%{x}<br>Education Expansion Scaled=%{y}<extra></extra>",
         "legendgroup": "AfD",
         "marker": {
          "color": "#FF6692",
          "size": 10,
          "symbol": "diamond"
         },
         "mode": "markers",
         "name": "AfD",
         "showlegend": true,
         "type": "scattergl",
         "x": {
          "bdata": "hWI7yT2b5z8=",
          "dtype": "f8"
         },
         "xaxis": "x",
         "y": {
          "bdata": "POamSQMuy78=",
          "dtype": "f8"
         },
         "yaxis": "y"
        }
       ],
       "layout": {
        "legend": {
         "title": {
          "text": "Label"
         },
         "tracegroupgap": 0
        },
        "margin": {
         "t": 60
        },
        "template": {
         "data": {
          "bar": [
           {
            "error_x": {
             "color": "#2a3f5f"
            },
            "error_y": {
             "color": "#2a3f5f"
            },
            "marker": {
             "line": {
              "color": "#E5ECF6",
              "width": 0.5
             },
             "pattern": {
              "fillmode": "overlay",
              "size": 10,
              "solidity": 0.2
             }
            },
            "type": "bar"
           }
          ],
          "barpolar": [
           {
            "marker": {
             "line": {
              "color": "#E5ECF6",
              "width": 0.5
             },
             "pattern": {
              "fillmode": "overlay",
              "size": 10,
              "solidity": 0.2
             }
            },
            "type": "barpolar"
           }
          ],
          "carpet": [
           {
            "aaxis": {
             "endlinecolor": "#2a3f5f",
             "gridcolor": "white",
             "linecolor": "white",
             "minorgridcolor": "white",
             "startlinecolor": "#2a3f5f"
            },
            "baxis": {
             "endlinecolor": "#2a3f5f",
             "gridcolor": "white",
             "linecolor": "white",
             "minorgridcolor": "white",
             "startlinecolor": "#2a3f5f"
            },
            "type": "carpet"
           }
          ],
          "choropleth": [
           {
            "colorbar": {
             "outlinewidth": 0,
             "ticks": ""
            },
            "type": "choropleth"
           }
          ],
          "contour": [
           {
            "colorbar": {
             "outlinewidth": 0,
             "ticks": ""
            },
            "colorscale": [
             [
              0,
              "#0d0887"
             ],
             [
              0.1111111111111111,
              "#46039f"
             ],
             [
              0.2222222222222222,
              "#7201a8"
             ],
             [
              0.3333333333333333,
              "#9c179e"
             ],
             [
              0.4444444444444444,
              "#bd3786"
             ],
             [
              0.5555555555555556,
              "#d8576b"
             ],
             [
              0.6666666666666666,
              "#ed7953"
             ],
             [
              0.7777777777777778,
              "#fb9f3a"
             ],
             [
              0.8888888888888888,
              "#fdca26"
             ],
             [
              1,
              "#f0f921"
             ]
            ],
            "type": "contour"
           }
          ],
          "contourcarpet": [
           {
            "colorbar": {
             "outlinewidth": 0,
             "ticks": ""
            },
            "type": "contourcarpet"
           }
          ],
          "heatmap": [
           {
            "colorbar": {
             "outlinewidth": 0,
             "ticks": ""
            },
            "colorscale": [
             [
              0,
              "#0d0887"
             ],
             [
              0.1111111111111111,
              "#46039f"
             ],
             [
              0.2222222222222222,
              "#7201a8"
             ],
             [
              0.3333333333333333,
              "#9c179e"
             ],
             [
              0.4444444444444444,
              "#bd3786"
             ],
             [
              0.5555555555555556,
              "#d8576b"
             ],
             [
              0.6666666666666666,
              "#ed7953"
             ],
             [
              0.7777777777777778,
              "#fb9f3a"
             ],
             [
              0.8888888888888888,
              "#fdca26"
             ],
             [
              1,
              "#f0f921"
             ]
            ],
            "type": "heatmap"
           }
          ],
          "histogram": [
           {
            "marker": {
             "pattern": {
              "fillmode": "overlay",
              "size": 10,
              "solidity": 0.2
             }
            },
            "type": "histogram"
           }
          ],
          "histogram2d": [
           {
            "colorbar": {
             "outlinewidth": 0,
             "ticks": ""
            },
            "colorscale": [
             [
              0,
              "#0d0887"
             ],
             [
              0.1111111111111111,
              "#46039f"
             ],
             [
              0.2222222222222222,
              "#7201a8"
             ],
             [
              0.3333333333333333,
              "#9c179e"
             ],
             [
              0.4444444444444444,
              "#bd3786"
             ],
             [
              0.5555555555555556,
              "#d8576b"
             ],
             [
              0.6666666666666666,
              "#ed7953"
             ],
             [
              0.7777777777777778,
              "#fb9f3a"
             ],
             [
              0.8888888888888888,
              "#fdca26"
             ],
             [
              1,
              "#f0f921"
             ]
            ],
            "type": "histogram2d"
           }
          ],
          "histogram2dcontour": [
           {
            "colorbar": {
             "outlinewidth": 0,
             "ticks": ""
            },
            "colorscale": [
             [
              0,
              "#0d0887"
             ],
             [
              0.1111111111111111,
              "#46039f"
             ],
             [
              0.2222222222222222,
              "#7201a8"
             ],
             [
              0.3333333333333333,
              "#9c179e"
             ],
             [
              0.4444444444444444,
              "#bd3786"
             ],
             [
              0.5555555555555556,
              "#d8576b"
             ],
             [
              0.6666666666666666,
              "#ed7953"
             ],
             [
              0.7777777777777778,
              "#fb9f3a"
             ],
             [
              0.8888888888888888,
              "#fdca26"
             ],
             [
              1,
              "#f0f921"
             ]
            ],
            "type": "histogram2dcontour"
           }
          ],
          "mesh3d": [
           {
            "colorbar": {
             "outlinewidth": 0,
             "ticks": ""
            },
            "type": "mesh3d"
           }
          ],
          "parcoords": [
           {
            "line": {
             "colorbar": {
              "outlinewidth": 0,
              "ticks": ""
             }
            },
            "type": "parcoords"
           }
          ],
          "pie": [
           {
            "automargin": true,
            "type": "pie"
           }
          ],
          "scatter": [
           {
            "fillpattern": {
             "fillmode": "overlay",
             "size": 10,
             "solidity": 0.2
            },
            "type": "scatter"
           }
          ],
          "scatter3d": [
           {
            "line": {
             "colorbar": {
              "outlinewidth": 0,
              "ticks": ""
             }
            },
            "marker": {
             "colorbar": {
              "outlinewidth": 0,
              "ticks": ""
             }
            },
            "type": "scatter3d"
           }
          ],
          "scattercarpet": [
           {
            "marker": {
             "colorbar": {
              "outlinewidth": 0,
              "ticks": ""
             }
            },
            "type": "scattercarpet"
           }
          ],
          "scattergeo": [
           {
            "marker": {
             "colorbar": {
              "outlinewidth": 0,
              "ticks": ""
             }
            },
            "type": "scattergeo"
           }
          ],
          "scattergl": [
           {
            "marker": {
             "colorbar": {
              "outlinewidth": 0,
              "ticks": ""
             }
            },
            "type": "scattergl"
           }
          ],
          "scattermap": [
           {
            "marker": {
             "colorbar": {
              "outlinewidth": 0,
              "ticks": ""
             }
            },
            "type": "scattermap"
           }
          ],
          "scattermapbox": [
           {
            "marker": {
             "colorbar": {
              "outlinewidth": 0,
              "ticks": ""
             }
            },
            "type": "scattermapbox"
           }
          ],
          "scatterpolar": [
           {
            "marker": {
             "colorbar": {
              "outlinewidth": 0,
              "ticks": ""
             }
            },
            "type": "scatterpolar"
           }
          ],
          "scatterpolargl": [
           {
            "marker": {
             "colorbar": {
              "outlinewidth": 0,
              "ticks": ""
             }
            },
            "type": "scatterpolargl"
           }
          ],
          "scatterternary": [
           {
            "marker": {
             "colorbar": {
              "outlinewidth": 0,
              "ticks": ""
             }
            },
            "type": "scatterternary"
           }
          ],
          "surface": [
           {
            "colorbar": {
             "outlinewidth": 0,
             "ticks": ""
            },
            "colorscale": [
             [
              0,
              "#0d0887"
             ],
             [
              0.1111111111111111,
              "#46039f"
             ],
             [
              0.2222222222222222,
              "#7201a8"
             ],
             [
              0.3333333333333333,
              "#9c179e"
             ],
             [
              0.4444444444444444,
              "#bd3786"
             ],
             [
              0.5555555555555556,
              "#d8576b"
             ],
             [
              0.6666666666666666,
              "#ed7953"
             ],
             [
              0.7777777777777778,
              "#fb9f3a"
             ],
             [
              0.8888888888888888,
              "#fdca26"
             ],
             [
              1,
              "#f0f921"
             ]
            ],
            "type": "surface"
           }
          ],
          "table": [
           {
            "cells": {
             "fill": {
              "color": "#EBF0F8"
             },
             "line": {
              "color": "white"
             }
            },
            "header": {
             "fill": {
              "color": "#C8D4E3"
             },
             "line": {
              "color": "white"
             }
            },
            "type": "table"
           }
          ]
         },
         "layout": {
          "annotationdefaults": {
           "arrowcolor": "#2a3f5f",
           "arrowhead": 0,
           "arrowwidth": 1
          },
          "autotypenumbers": "strict",
          "coloraxis": {
           "colorbar": {
            "outlinewidth": 0,
            "ticks": ""
           }
          },
          "colorscale": {
           "diverging": [
            [
             0,
             "#8e0152"
            ],
            [
             0.1,
             "#c51b7d"
            ],
            [
             0.2,
             "#de77ae"
            ],
            [
             0.3,
             "#f1b6da"
            ],
            [
             0.4,
             "#fde0ef"
            ],
            [
             0.5,
             "#f7f7f7"
            ],
            [
             0.6,
             "#e6f5d0"
            ],
            [
             0.7,
             "#b8e186"
            ],
            [
             0.8,
             "#7fbc41"
            ],
            [
             0.9,
             "#4d9221"
            ],
            [
             1,
             "#276419"
            ]
           ],
           "sequential": [
            [
             0,
             "#0d0887"
            ],
            [
             0.1111111111111111,
             "#46039f"
            ],
            [
             0.2222222222222222,
             "#7201a8"
            ],
            [
             0.3333333333333333,
             "#9c179e"
            ],
            [
             0.4444444444444444,
             "#bd3786"
            ],
            [
             0.5555555555555556,
             "#d8576b"
            ],
            [
             0.6666666666666666,
             "#ed7953"
            ],
            [
             0.7777777777777778,
             "#fb9f3a"
            ],
            [
             0.8888888888888888,
             "#fdca26"
            ],
            [
             1,
             "#f0f921"
            ]
           ],
           "sequentialminus": [
            [
             0,
             "#0d0887"
            ],
            [
             0.1111111111111111,
             "#46039f"
            ],
            [
             0.2222222222222222,
             "#7201a8"
            ],
            [
             0.3333333333333333,
             "#9c179e"
            ],
            [
             0.4444444444444444,
             "#bd3786"
            ],
            [
             0.5555555555555556,
             "#d8576b"
            ],
            [
             0.6666666666666666,
             "#ed7953"
            ],
            [
             0.7777777777777778,
             "#fb9f3a"
            ],
            [
             0.8888888888888888,
             "#fdca26"
            ],
            [
             1,
             "#f0f921"
            ]
           ]
          },
          "colorway": [
           "#636efa",
           "#EF553B",
           "#00cc96",
           "#ab63fa",
           "#FFA15A",
           "#19d3f3",
           "#FF6692",
           "#B6E880",
           "#FF97FF",
           "#FECB52"
          ],
          "font": {
           "color": "#2a3f5f"
          },
          "geo": {
           "bgcolor": "white",
           "lakecolor": "white",
           "landcolor": "#E5ECF6",
           "showlakes": true,
           "showland": true,
           "subunitcolor": "white"
          },
          "hoverlabel": {
           "align": "left"
          },
          "hovermode": "closest",
          "mapbox": {
           "style": "light"
          },
          "paper_bgcolor": "white",
          "plot_bgcolor": "#E5ECF6",
          "polar": {
           "angularaxis": {
            "gridcolor": "white",
            "linecolor": "white",
            "ticks": ""
           },
           "bgcolor": "#E5ECF6",
           "radialaxis": {
            "gridcolor": "white",
            "linecolor": "white",
            "ticks": ""
           }
          },
          "scene": {
           "xaxis": {
            "backgroundcolor": "#E5ECF6",
            "gridcolor": "white",
            "gridwidth": 2,
            "linecolor": "white",
            "showbackground": true,
            "ticks": "",
            "zerolinecolor": "white"
           },
           "yaxis": {
            "backgroundcolor": "#E5ECF6",
            "gridcolor": "white",
            "gridwidth": 2,
            "linecolor": "white",
            "showbackground": true,
            "ticks": "",
            "zerolinecolor": "white"
           },
           "zaxis": {
            "backgroundcolor": "#E5ECF6",
            "gridcolor": "white",
            "gridwidth": 2,
            "linecolor": "white",
            "showbackground": true,
            "ticks": "",
            "zerolinecolor": "white"
           }
          },
          "shapedefaults": {
           "line": {
            "color": "#2a3f5f"
           }
          },
          "ternary": {
           "aaxis": {
            "gridcolor": "white",
            "linecolor": "white",
            "ticks": ""
           },
           "baxis": {
            "gridcolor": "white",
            "linecolor": "white",
            "ticks": ""
           },
           "bgcolor": "#E5ECF6",
           "caxis": {
            "gridcolor": "white",
            "linecolor": "white",
            "ticks": ""
           }
          },
          "title": {
           "x": 0.05
          },
          "xaxis": {
           "automargin": true,
           "gridcolor": "white",
           "linecolor": "white",
           "ticks": "",
           "title": {
            "standoff": 15
           },
           "zerolinecolor": "white",
           "zerolinewidth": 2
          },
          "yaxis": {
           "automargin": true,
           "gridcolor": "white",
           "linecolor": "white",
           "ticks": "",
           "title": {
            "standoff": 15
           },
           "zerolinecolor": "white",
           "zerolinewidth": 2
          }
         }
        },
        "title": {
         "text": "Scaled Voter and Party Positions"
        },
        "xaxis": {
         "anchor": "y",
         "domain": [
          0,
          1
         ],
         "title": {
          "text": "Democracy Scaled"
         }
        },
        "yaxis": {
         "anchor": "x",
         "domain": [
          0,
          1
         ],
         "title": {
          "text": "Education Expansion Scaled"
         }
        }
       }
      }
     },
     "metadata": {},
     "output_type": "display_data"
    }
   ],
   "source": [
    "concatenated_df = pd.concat([voter_scaled, party_scaled_df], ignore_index=True)\n",
    "\n",
    "fig = px.scatter(\n",
    "    concatenated_df,\n",
    "    x=x_scaled,\n",
    "    y=y_scaled,\n",
    "    color='Label',\n",
    "    symbol='Label')\n",
    "fig.update_traces(marker=dict(size=10))\n",
    "fig.update_layout(title='Scaled Voter and Party Positions')\n",
    "fig.show()"
   ]
  },
  {
   "cell_type": "code",
   "execution_count": 10,
   "id": "3ee87e85",
   "metadata": {},
   "outputs": [],
   "source": [
    "party_centered, voter_centered = dp.center_party_voter_data(voter_df=voter_scaled, party_df=party_scaled_df, x_var=x_var, y_var=y_var)"
   ]
  },
  {
   "cell_type": "code",
   "execution_count": 11,
   "id": "fedd2d5c",
   "metadata": {},
   "outputs": [
    {
     "data": {
      "application/vnd.plotly.v1+json": {
       "config": {
        "plotlyServerURL": "https://plot.ly"
       },
       "data": [
        {
         "hovertemplate": "Label=Voter<br>Democracy Centered=%{x}<br>Education Expansion Centered=%{y}<extra></extra>",
         "legendgroup": "Voter",
         "marker": {
          "color": "#636efa",
          "size": 10,
          "symbol": "circle"
         },
         "mode": "markers",
         "name": "Voter",
         "showlegend": true,
         "type": "scattergl",
         "x": {
          "bdata": "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",
          "dtype": "f8"
         },
         "xaxis": "x",
         "y": {
          "bdata": "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",
          "dtype": "f8"
         },
         "yaxis": "y"
        },
        {
         "hovertemplate": "Label=90/Greens<br>Democracy Centered=%{x}<br>Education Expansion Centered=%{y}<extra></extra>",
         "legendgroup": "90/Greens",
         "marker": {
          "color": "#EF553B",
          "size": 10,
          "symbol": "diamond"
         },
         "mode": "markers",
         "name": "90/Greens",
         "showlegend": true,
         "type": "scattergl",
         "x": {
          "bdata": "eOYl00wvqr8=",
          "dtype": "f8"
         },
         "xaxis": "x",
         "y": {
          "bdata": "VX8YcEfJuT8=",
          "dtype": "f8"
         },
         "yaxis": "y"
        },
        {
         "hovertemplate": "Label=LINKE<br>Democracy Centered=%{x}<br>Education Expansion Centered=%{y}<extra></extra>",
         "legendgroup": "LINKE",
         "marker": {
          "color": "#00cc96",
          "size": 10,
          "symbol": "square"
         },
         "mode": "markers",
         "name": "LINKE",
         "showlegend": true,
         "type": "scattergl",
         "x": {
          "bdata": "vDMuFhji2T8=",
          "dtype": "f8"
         },
         "xaxis": "x",
         "y": {
          "bdata": "fsRcO9IEtj8=",
          "dtype": "f8"
         },
         "yaxis": "y"
        },
        {
         "hovertemplate": "Label=SPD<br>Democracy Centered=%{x}<br>Education Expansion Centered=%{y}<extra></extra>",
         "legendgroup": "SPD",
         "marker": {
          "color": "#ab63fa",
          "size": 10,
          "symbol": "x"
         },
         "mode": "markers",
         "name": "SPD",
         "showlegend": true,
         "type": "scattergl",
         "x": {
          "bdata": "ELfcQZuS0L8=",
          "dtype": "f8"
         },
         "xaxis": "x",
         "y": {
          "bdata": "nkVqkiJjsj8=",
          "dtype": "f8"
         },
         "yaxis": "y"
        },
        {
         "hovertemplate": "Label=FDP<br>Democracy Centered=%{x}<br>Education Expansion Centered=%{y}<extra></extra>",
         "legendgroup": "FDP",
         "marker": {
          "color": "#FFA15A",
          "size": 10,
          "symbol": "cross"
         },
         "mode": "markers",
         "name": "FDP",
         "showlegend": true,
         "type": "scattergl",
         "x": {
          "bdata": "6UpAOJPPuj8=",
          "dtype": "f8"
         },
         "xaxis": "x",
         "y": {
          "bdata": "bb3HbX2v1j8=",
          "dtype": "f8"
         },
         "yaxis": "y"
        },
        {
         "hovertemplate": "Label=CDU/CSU<br>Democracy Centered=%{x}<br>Education Expansion Centered=%{y}<extra></extra>",
         "legendgroup": "CDU/CSU",
         "marker": {
          "color": "#19d3f3",
          "size": 10,
          "symbol": "circle"
         },
         "mode": "markers",
         "name": "CDU/CSU",
         "showlegend": true,
         "type": "scattergl",
         "x": {
          "bdata": "FIvVc/M9478=",
          "dtype": "f8"
         },
         "xaxis": "x",
         "y": {
          "bdata": "/CGG9FSH0L8=",
          "dtype": "f8"
         },
         "yaxis": "y"
        },
        {
         "hovertemplate": "Label=AfD<br>Democracy Centered=%{x}<br>Education Expansion Centered=%{y}<extra></extra>",
         "legendgroup": "AfD",
         "marker": {
          "color": "#FF6692",
          "size": 10,
          "symbol": "diamond"
         },
         "mode": "markers",
         "name": "AfD",
         "showlegend": true,
         "type": "scattergl",
         "x": {
          "bdata": "hWI7yT2b5z8=",
          "dtype": "f8"
         },
         "xaxis": "x",
         "y": {
          "bdata": "QuamSQMuy78=",
          "dtype": "f8"
         },
         "yaxis": "y"
        }
       ],
       "layout": {
        "legend": {
         "title": {
          "text": "Label"
         },
         "tracegroupgap": 0
        },
        "margin": {
         "t": 60
        },
        "template": {
         "data": {
          "bar": [
           {
            "error_x": {
             "color": "#2a3f5f"
            },
            "error_y": {
             "color": "#2a3f5f"
            },
            "marker": {
             "line": {
              "color": "#E5ECF6",
              "width": 0.5
             },
             "pattern": {
              "fillmode": "overlay",
              "size": 10,
              "solidity": 0.2
             }
            },
            "type": "bar"
           }
          ],
          "barpolar": [
           {
            "marker": {
             "line": {
              "color": "#E5ECF6",
              "width": 0.5
             },
             "pattern": {
              "fillmode": "overlay",
              "size": 10,
              "solidity": 0.2
             }
            },
            "type": "barpolar"
           }
          ],
          "carpet": [
           {
            "aaxis": {
             "endlinecolor": "#2a3f5f",
             "gridcolor": "white",
             "linecolor": "white",
             "minorgridcolor": "white",
             "startlinecolor": "#2a3f5f"
            },
            "baxis": {
             "endlinecolor": "#2a3f5f",
             "gridcolor": "white",
             "linecolor": "white",
             "minorgridcolor": "white",
             "startlinecolor": "#2a3f5f"
            },
            "type": "carpet"
           }
          ],
          "choropleth": [
           {
            "colorbar": {
             "outlinewidth": 0,
             "ticks": ""
            },
            "type": "choropleth"
           }
          ],
          "contour": [
           {
            "colorbar": {
             "outlinewidth": 0,
             "ticks": ""
            },
            "colorscale": [
             [
              0,
              "#0d0887"
             ],
             [
              0.1111111111111111,
              "#46039f"
             ],
             [
              0.2222222222222222,
              "#7201a8"
             ],
             [
              0.3333333333333333,
              "#9c179e"
             ],
             [
              0.4444444444444444,
              "#bd3786"
             ],
             [
              0.5555555555555556,
              "#d8576b"
             ],
             [
              0.6666666666666666,
              "#ed7953"
             ],
             [
              0.7777777777777778,
              "#fb9f3a"
             ],
             [
              0.8888888888888888,
              "#fdca26"
             ],
             [
              1,
              "#f0f921"
             ]
            ],
            "type": "contour"
           }
          ],
          "contourcarpet": [
           {
            "colorbar": {
             "outlinewidth": 0,
             "ticks": ""
            },
            "type": "contourcarpet"
           }
          ],
          "heatmap": [
           {
            "colorbar": {
             "outlinewidth": 0,
             "ticks": ""
            },
            "colorscale": [
             [
              0,
              "#0d0887"
             ],
             [
              0.1111111111111111,
              "#46039f"
             ],
             [
              0.2222222222222222,
              "#7201a8"
             ],
             [
              0.3333333333333333,
              "#9c179e"
             ],
             [
              0.4444444444444444,
              "#bd3786"
             ],
             [
              0.5555555555555556,
              "#d8576b"
             ],
             [
              0.6666666666666666,
              "#ed7953"
             ],
             [
              0.7777777777777778,
              "#fb9f3a"
             ],
             [
              0.8888888888888888,
              "#fdca26"
             ],
             [
              1,
              "#f0f921"
             ]
            ],
            "type": "heatmap"
           }
          ],
          "histogram": [
           {
            "marker": {
             "pattern": {
              "fillmode": "overlay",
              "size": 10,
              "solidity": 0.2
             }
            },
            "type": "histogram"
           }
          ],
          "histogram2d": [
           {
            "colorbar": {
             "outlinewidth": 0,
             "ticks": ""
            },
            "colorscale": [
             [
              0,
              "#0d0887"
             ],
             [
              0.1111111111111111,
              "#46039f"
             ],
             [
              0.2222222222222222,
              "#7201a8"
             ],
             [
              0.3333333333333333,
              "#9c179e"
             ],
             [
              0.4444444444444444,
              "#bd3786"
             ],
             [
              0.5555555555555556,
              "#d8576b"
             ],
             [
              0.6666666666666666,
              "#ed7953"
             ],
             [
              0.7777777777777778,
              "#fb9f3a"
             ],
             [
              0.8888888888888888,
              "#fdca26"
             ],
             [
              1,
              "#f0f921"
             ]
            ],
            "type": "histogram2d"
           }
          ],
          "histogram2dcontour": [
           {
            "colorbar": {
             "outlinewidth": 0,
             "ticks": ""
            },
            "colorscale": [
             [
              0,
              "#0d0887"
             ],
             [
              0.1111111111111111,
              "#46039f"
             ],
             [
              0.2222222222222222,
              "#7201a8"
             ],
             [
              0.3333333333333333,
              "#9c179e"
             ],
             [
              0.4444444444444444,
              "#bd3786"
             ],
             [
              0.5555555555555556,
              "#d8576b"
             ],
             [
              0.6666666666666666,
              "#ed7953"
             ],
             [
              0.7777777777777778,
              "#fb9f3a"
             ],
             [
              0.8888888888888888,
              "#fdca26"
             ],
             [
              1,
              "#f0f921"
             ]
            ],
            "type": "histogram2dcontour"
           }
          ],
          "mesh3d": [
           {
            "colorbar": {
             "outlinewidth": 0,
             "ticks": ""
            },
            "type": "mesh3d"
           }
          ],
          "parcoords": [
           {
            "line": {
             "colorbar": {
              "outlinewidth": 0,
              "ticks": ""
             }
            },
            "type": "parcoords"
           }
          ],
          "pie": [
           {
            "automargin": true,
            "type": "pie"
           }
          ],
          "scatter": [
           {
            "fillpattern": {
             "fillmode": "overlay",
             "size": 10,
             "solidity": 0.2
            },
            "type": "scatter"
           }
          ],
          "scatter3d": [
           {
            "line": {
             "colorbar": {
              "outlinewidth": 0,
              "ticks": ""
             }
            },
            "marker": {
             "colorbar": {
              "outlinewidth": 0,
              "ticks": ""
             }
            },
            "type": "scatter3d"
           }
          ],
          "scattercarpet": [
           {
            "marker": {
             "colorbar": {
              "outlinewidth": 0,
              "ticks": ""
             }
            },
            "type": "scattercarpet"
           }
          ],
          "scattergeo": [
           {
            "marker": {
             "colorbar": {
              "outlinewidth": 0,
              "ticks": ""
             }
            },
            "type": "scattergeo"
           }
          ],
          "scattergl": [
           {
            "marker": {
             "colorbar": {
              "outlinewidth": 0,
              "ticks": ""
             }
            },
            "type": "scattergl"
           }
          ],
          "scattermap": [
           {
            "marker": {
             "colorbar": {
              "outlinewidth": 0,
              "ticks": ""
             }
            },
            "type": "scattermap"
           }
          ],
          "scattermapbox": [
           {
            "marker": {
             "colorbar": {
              "outlinewidth": 0,
              "ticks": ""
             }
            },
            "type": "scattermapbox"
           }
          ],
          "scatterpolar": [
           {
            "marker": {
             "colorbar": {
              "outlinewidth": 0,
              "ticks": ""
             }
            },
            "type": "scatterpolar"
           }
          ],
          "scatterpolargl": [
           {
            "marker": {
             "colorbar": {
              "outlinewidth": 0,
              "ticks": ""
             }
            },
            "type": "scatterpolargl"
           }
          ],
          "scatterternary": [
           {
            "marker": {
             "colorbar": {
              "outlinewidth": 0,
              "ticks": ""
             }
            },
            "type": "scatterternary"
           }
          ],
          "surface": [
           {
            "colorbar": {
             "outlinewidth": 0,
             "ticks": ""
            },
            "colorscale": [
             [
              0,
              "#0d0887"
             ],
             [
              0.1111111111111111,
              "#46039f"
             ],
             [
              0.2222222222222222,
              "#7201a8"
             ],
             [
              0.3333333333333333,
              "#9c179e"
             ],
             [
              0.4444444444444444,
              "#bd3786"
             ],
             [
              0.5555555555555556,
              "#d8576b"
             ],
             [
              0.6666666666666666,
              "#ed7953"
             ],
             [
              0.7777777777777778,
              "#fb9f3a"
             ],
             [
              0.8888888888888888,
              "#fdca26"
             ],
             [
              1,
              "#f0f921"
             ]
            ],
            "type": "surface"
           }
          ],
          "table": [
           {
            "cells": {
             "fill": {
              "color": "#EBF0F8"
             },
             "line": {
              "color": "white"
             }
            },
            "header": {
             "fill": {
              "color": "#C8D4E3"
             },
             "line": {
              "color": "white"
             }
            },
            "type": "table"
           }
          ]
         },
         "layout": {
          "annotationdefaults": {
           "arrowcolor": "#2a3f5f",
           "arrowhead": 0,
           "arrowwidth": 1
          },
          "autotypenumbers": "strict",
          "coloraxis": {
           "colorbar": {
            "outlinewidth": 0,
            "ticks": ""
           }
          },
          "colorscale": {
           "diverging": [
            [
             0,
             "#8e0152"
            ],
            [
             0.1,
             "#c51b7d"
            ],
            [
             0.2,
             "#de77ae"
            ],
            [
             0.3,
             "#f1b6da"
            ],
            [
             0.4,
             "#fde0ef"
            ],
            [
             0.5,
             "#f7f7f7"
            ],
            [
             0.6,
             "#e6f5d0"
            ],
            [
             0.7,
             "#b8e186"
            ],
            [
             0.8,
             "#7fbc41"
            ],
            [
             0.9,
             "#4d9221"
            ],
            [
             1,
             "#276419"
            ]
           ],
           "sequential": [
            [
             0,
             "#0d0887"
            ],
            [
             0.1111111111111111,
             "#46039f"
            ],
            [
             0.2222222222222222,
             "#7201a8"
            ],
            [
             0.3333333333333333,
             "#9c179e"
            ],
            [
             0.4444444444444444,
             "#bd3786"
            ],
            [
             0.5555555555555556,
             "#d8576b"
            ],
            [
             0.6666666666666666,
             "#ed7953"
            ],
            [
             0.7777777777777778,
             "#fb9f3a"
            ],
            [
             0.8888888888888888,
             "#fdca26"
            ],
            [
             1,
             "#f0f921"
            ]
           ],
           "sequentialminus": [
            [
             0,
             "#0d0887"
            ],
            [
             0.1111111111111111,
             "#46039f"
            ],
            [
             0.2222222222222222,
             "#7201a8"
            ],
            [
             0.3333333333333333,
             "#9c179e"
            ],
            [
             0.4444444444444444,
             "#bd3786"
            ],
            [
             0.5555555555555556,
             "#d8576b"
            ],
            [
             0.6666666666666666,
             "#ed7953"
            ],
            [
             0.7777777777777778,
             "#fb9f3a"
            ],
            [
             0.8888888888888888,
             "#fdca26"
            ],
            [
             1,
             "#f0f921"
            ]
           ]
          },
          "colorway": [
           "#636efa",
           "#EF553B",
           "#00cc96",
           "#ab63fa",
           "#FFA15A",
           "#19d3f3",
           "#FF6692",
           "#B6E880",
           "#FF97FF",
           "#FECB52"
          ],
          "font": {
           "color": "#2a3f5f"
          },
          "geo": {
           "bgcolor": "white",
           "lakecolor": "white",
           "landcolor": "#E5ECF6",
           "showlakes": true,
           "showland": true,
           "subunitcolor": "white"
          },
          "hoverlabel": {
           "align": "left"
          },
          "hovermode": "closest",
          "mapbox": {
           "style": "light"
          },
          "paper_bgcolor": "white",
          "plot_bgcolor": "#E5ECF6",
          "polar": {
           "angularaxis": {
            "gridcolor": "white",
            "linecolor": "white",
            "ticks": ""
           },
           "bgcolor": "#E5ECF6",
           "radialaxis": {
            "gridcolor": "white",
            "linecolor": "white",
            "ticks": ""
           }
          },
          "scene": {
           "xaxis": {
            "backgroundcolor": "#E5ECF6",
            "gridcolor": "white",
            "gridwidth": 2,
            "linecolor": "white",
            "showbackground": true,
            "ticks": "",
            "zerolinecolor": "white"
           },
           "yaxis": {
            "backgroundcolor": "#E5ECF6",
            "gridcolor": "white",
            "gridwidth": 2,
            "linecolor": "white",
            "showbackground": true,
            "ticks": "",
            "zerolinecolor": "white"
           },
           "zaxis": {
            "backgroundcolor": "#E5ECF6",
            "gridcolor": "white",
            "gridwidth": 2,
            "linecolor": "white",
            "showbackground": true,
            "ticks": "",
            "zerolinecolor": "white"
           }
          },
          "shapedefaults": {
           "line": {
            "color": "#2a3f5f"
           }
          },
          "ternary": {
           "aaxis": {
            "gridcolor": "white",
            "linecolor": "white",
            "ticks": ""
           },
           "baxis": {
            "gridcolor": "white",
            "linecolor": "white",
            "ticks": ""
           },
           "bgcolor": "#E5ECF6",
           "caxis": {
            "gridcolor": "white",
            "linecolor": "white",
            "ticks": ""
           }
          },
          "title": {
           "x": 0.05
          },
          "xaxis": {
           "automargin": true,
           "gridcolor": "white",
           "linecolor": "white",
           "ticks": "",
           "title": {
            "standoff": 15
           },
           "zerolinecolor": "white",
           "zerolinewidth": 2
          },
          "yaxis": {
           "automargin": true,
           "gridcolor": "white",
           "linecolor": "white",
           "ticks": "",
           "title": {
            "standoff": 15
           },
           "zerolinecolor": "white",
           "zerolinewidth": 2
          }
         }
        },
        "title": {
         "text": "Centered and Rotated Voter and Party Positions"
        },
        "xaxis": {
         "anchor": "y",
         "domain": [
          0,
          1
         ],
         "title": {
          "text": "Democracy Centered"
         }
        },
        "yaxis": {
         "anchor": "x",
         "domain": [
          0,
          1
         ],
         "title": {
          "text": "Education Expansion Centered"
         }
        }
       }
      }
     },
     "metadata": {},
     "output_type": "display_data"
    }
   ],
   "source": [
    "concatenated_df = pd.concat([voter_centered, party_centered], ignore_index=True)\n",
    "\n",
    "fig = px.scatter(\n",
    "    concatenated_df,\n",
    "    x=f\"{x_var} Centered\",\n",
    "    y=f\"{y_var} Centered\",\n",
    "    color='Label',\n",
    "    symbol='Label')\n",
    "fig.update_traces(marker=dict(size=10))\n",
    "fig.update_layout(title='Centered and Rotated Voter and Party Positions')\n",
    "fig.show()"
   ]
  },
  {
   "cell_type": "code",
   "execution_count": 12,
   "id": "87cd61f2",
   "metadata": {},
   "outputs": [
    {
     "data": {
      "image/png": "[encoded data removed]",
      "text/plain": [
       "<Figure size 1000x1000 with 1 Axes>"
      ]
     },
     "metadata": {},
     "output_type": "display_data"
    }
   ],
   "source": [
    "x_v = voter_scaled[x_scaled].values\n",
    "y_v = voter_scaled[y_scaled].values\n",
    "\n",
    "# Stack the data into a 2×N array and hand it to SciPy’s gaussian_kde\n",
    "xy = np.vstack([x_v, y_v])\n",
    "# In two-dimensional KDE, the data points are smoothed in both dimensions, resulting in a surface that represents the joint probability density of the two variables\n",
    "kde = gaussian_kde(xy, bw_method='scott')\n",
    "\n",
    "# You build a 200×200 grid over the observed data‐range, evaluate the estimation at each grid point, and reshape back into a 2-D array zi\n",
    "nbins = 200\n",
    "xi = np.linspace(x_v.min(), x_v.max(), nbins)\n",
    "yi = np.linspace(y_v.min(), y_v.max(), nbins)\n",
    "xi, yi = np.meshgrid(xi, yi)\n",
    "zi = kde(np.vstack([xi.ravel(), yi.ravel()])).reshape(xi.shape)\n",
    "\n",
    "# surface can be visualized using contour plots, where each contour line represents a region of constant density\n",
    "levels = np.percentile(zi, [50, 75, 95])\n",
    "\n",
    "plt.figure(figsize=(10, 10))\n",
    "# filled contours\n",
    "plt.contourf(xi, yi, zi,\n",
    "             levels=[levels[0], levels[1], levels[2], zi.max()],\n",
    "             cmap=\"Greys\",    # or any sequential colormap\n",
    "             alpha=0.5)\n",
    "# outline the contour levels\n",
    "plt.contour(xi, yi, zi, levels=levels, colors=\"k\", linewidths=1)\n",
    "\n",
    "# overlay the voter points \n",
    "plt.scatter(x_v, y_v, s=10, c=\"lightblue\", edgecolor=\"none\", alpha=0.6, label=\"Voter\")\n",
    "\n",
    "# overlay the party means\n",
    "px = party_scaled_df[x_scaled].values\n",
    "py = party_scaled_df[y_scaled].values\n",
    "labels = party_scaled_df[\"Party_Name\"].values\n",
    "\n",
    "plt.scatter(px, py, s=80, c=\"red\", edgecolor=\"white\", linewidth=1.5, label=\"Party\")\n",
    "for name, x, y in zip(labels, px, py):\n",
    "    plt.text(x, y, name, fontsize=9, fontweight=\"bold\",\n",
    "             ha=\"center\", va=\"center\", color=\"darkred\")\n",
    "\n",
    "plt.axhline(0, color=\"grey\", lw=0.8)\n",
    "plt.axvline(0, color=\"grey\", lw=0.8)\n",
    "plt.xlabel(x_scaled)\n",
    "plt.ylabel(y_scaled)\n",
    "plt.title(\"Voter Density & Party Positions\")\n",
    "plt.legend(loc=\"upper left\")\n",
    "plt.tight_layout()\n",
    "plt.show()"
   ]
  },
  {
   "cell_type": "code",
   "execution_count": null,
   "id": "1e801e9a",
   "metadata": {},
   "outputs": [
    {
     "data": {
      "image/png": "[encoded data removed]",
      "text/plain": [
       "<Figure size 640x480 with 1 Axes>"
      ]
     },
     "metadata": {},
     "output_type": "display_data"
    }
   ],
   "source": [
    "# plot colors for each point according to which party he voted for\n",
    "def plot(voter, party, label: bool):\n",
    "    # get party and voter positions\n",
    "    x_voter = voter[f'{x_var} Centered']\n",
    "    y_voter = voter[f'{y_var} Centered']\n",
    "    x_party = party[f'{x_var} Centered']\n",
    "    y_party = party[f'{y_var} Centered']\n",
    "\n",
    "    # set a color for each person depending on which party he voted for\n",
    "    color = voter[\"party_choice\"].replace([0, 1, 2, 3, 4, 5], [\"green\", \"red\", \"black\", \"blue\", \"purple\", \"yellow\"])\n",
    "\n",
    "    plt.Figure()\n",
    "\n",
    "    plt.scatter(x_voter, y_voter, c=color, alpha=0.5)\n",
    "    plt.scatter(x_party, y_party)\n",
    "    plt.xlabel(x_var)\n",
    "    plt.ylabel(y_var)\n",
    "\n",
    "    # show the name of the parties\n",
    "    if \"Label\" in party and label:\n",
    "        label = party[\"Label\"]\n",
    "        for x, y, text in zip(x_party, y_party, label):\n",
    "            plt.text(x, y, text)\n",
    "\n",
    "plot(voter_centered, party_centered, False)"
   ]
  },
  {
   "cell_type": "code",
   "execution_count": null,
   "id": "d43a5674",
   "metadata": {},
   "outputs": [],
   "source": []
  }
 ],
 "metadata": {
  "kernelspec": {
   "display_name": ".venv",
   "language": "python",
   "name": "python3"
  },
  "language_info": {
   "codemirror_mode": {
    "name": "ipython",
    "version": 3
   },
   "file_extension": ".py",
   "mimetype": "text/x-python",
   "name": "python",
   "nbconvert_exporter": "python",
   "pygments_lexer": "ipython3",
   "version": "3.11.4"
  }
 },
 "nbformat": 4,
 "nbformat_minor": 5
}
